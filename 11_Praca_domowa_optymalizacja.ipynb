{
  "cells": [
    {
      "cell_type": "markdown",
      "metadata": {
        "id": "sDW5seyDvIQ6"
      },
      "source": [
        "# DDPLKO Moduł 11 - praca domowa - Optymalizacja modelu\n",
        "\n",
        "To jedenasta praca domowa w Programie szkoleniowym Klasyfikacja obrazu od Deep Drive PL\n",
        "\n",
        "Twoim zadaniem w tym module będzie:\n",
        "- [ ] Wykonanie optymalizacji jednego ze swoich modeli: modelu do klasyfikacji rysunków z QuickDraw, modelu wytrenowanego z wykorzystaniem transfer learningu, modelu do klasyfikacji binarnej\n",
        "- [ ] Możesz wykorzystać pruning lub kwantyzację\n",
        "- [ ] Porównaj Validation accuracy przed i po optymalizaji\n",
        "- [ ] Porównaj wielkość zapisanych modeli - przed i po optymalizaji (rozmiar pliku zip z modelem)\n",
        "- [ ] Udostępnij porównanie validation accuracy dla Twojego modelu przed i po optymalizacji wraz rozmiarami pliku zip na Discordzie `#klasyfikacja-wyniki`\n",
        "\n",
        "Extra - dodatkowo możesz:\n",
        "- Jeżeli masz kartę graficzną Nvidia'i, możesz spróbować wykorzystać TensorRT\n",
        "- Wykonać wykres pruning-rate vs val-acc, by pokazać zależność Validation Accuracy od wartości pruningu (użyj early stoppingu w treningach)"
      ]
    },
    {
      "cell_type": "markdown",
      "metadata": {
        "id": "gT7NC2DmvIRB"
      },
      "source": [
        "# Model"
      ]
    },
    {
      "cell_type": "code",
      "execution_count": 165,
      "metadata": {
        "id": "mFi6g9T8vIRC"
      },
      "outputs": [],
      "source": [
        "!pip install timm --quiet\n",
        "import timm\n",
        "import os\n",
        "import urllib\n",
        "import numpy as np\n",
        "import zipfile\n",
        "import torch\n",
        "import torch.nn as nn\n",
        "import torch.nn.functional as F\n",
        "import torch.optim as optim\n",
        "import matplotlib.pyplot as plt\n",
        "from torch.utils.data import Dataset, TensorDataset, DataLoader\n",
        "from tqdm.notebook import tqdm\n",
        "import torch.quantization as quantization\n",
        "from collections import defaultdict\n",
        "import torch.nn.utils.prune as prune\n",
        "\n",
        "device = 'cuda' if torch.cuda.is_available() else 'cpu'"
      ]
    },
    {
      "cell_type": "code",
      "execution_count": 166,
      "metadata": {
        "id": "xGYfEXYK3QP5"
      },
      "outputs": [],
      "source": [
        "device = 'cpu'"
      ]
    },
    {
      "cell_type": "code",
      "execution_count": 99,
      "metadata": {
        "id": "2w1jue19vIRE"
      },
      "outputs": [],
      "source": [
        "class_names=['spider', 'penguin', 'shark', 'sheep', 'rhinoceros', 'hedgehog', 'horse', 'fish', 'flamingo', 'frog']"
      ]
    },
    {
      "cell_type": "code",
      "execution_count": 100,
      "metadata": {
        "id": "2GbWGSdyvIRE"
      },
      "outputs": [],
      "source": [
        "for name in class_names:\n",
        "    url = 'https://storage.googleapis.com/quickdraw_dataset/full/numpy_bitmap/%s.npy'%name\n",
        "    file_name = url.split('/')[-1].split('?')[0]\n",
        "\n",
        "    url = url.replace(' ','%20')\n",
        "    \n",
        "    if not os.path.isfile(file_name):\n",
        "        print(url, '==>', file_name)\n",
        "        urllib.request.urlretrieve(url, file_name)"
      ]
    },
    {
      "cell_type": "code",
      "execution_count": 101,
      "metadata": {
        "colab": {
          "base_uri": "https://localhost:8080/"
        },
        "id": "w-x7koE-vIRF",
        "outputId": "f87b7f3e-7ff5-40b2-9cd1-f866e5113b68"
      },
      "outputs": [
        {
          "name": "stdout",
          "output_type": "stream",
          "text": [
            "spider          <class 'numpy.ndarray'>\n",
            "penguin         <class 'numpy.ndarray'>\n",
            "shark           <class 'numpy.ndarray'>\n",
            "sheep           <class 'numpy.ndarray'>\n",
            "rhinoceros      <class 'numpy.ndarray'>\n",
            "hedgehog        <class 'numpy.ndarray'>\n",
            "horse           <class 'numpy.ndarray'>\n",
            "fish            <class 'numpy.ndarray'>\n",
            "flamingo        <class 'numpy.ndarray'>\n",
            "frog            <class 'numpy.ndarray'>\n"
          ]
        }
      ],
      "source": [
        "data = []\n",
        "for name in class_names:\n",
        "    file_name = name + '.npy'\n",
        "    data.append(np.load(file_name, fix_imports=True, allow_pickle=True))\n",
        "    print('%-15s' % name, type(data[-1]))\n",
        "for i in range(len(data)):\n",
        "    data[i] = data[i][::100]"
      ]
    },
    {
      "cell_type": "code",
      "execution_count": 102,
      "metadata": {
        "id": "JnIRNSzxvIRH"
      },
      "outputs": [],
      "source": [
        "data = [np.reshape(name, (-1, 28, 28)) for name in data]"
      ]
    },
    {
      "cell_type": "code",
      "execution_count": 103,
      "metadata": {
        "id": "TciT_1FbvIRH"
      },
      "outputs": [],
      "source": [
        "X = np.concatenate(data).reshape(-1, 1, 28, 28)\n",
        "X = X = X.astype('float32')\n",
        "X = X / 255\n",
        "\n",
        "y = np.concatenate([np.array([i] * len(_)) for i, _ in enumerate(data)],\n",
        "                   axis=0)\n",
        "y = y = y.astype('int64')"
      ]
    },
    {
      "cell_type": "code",
      "execution_count": 104,
      "metadata": {
        "id": "WnPIwGl_vIRI"
      },
      "outputs": [],
      "source": [
        "batch_size = 128\n",
        "\n",
        "dataset = TensorDataset(torch.tensor(X), torch.tensor(y))\n",
        "\n",
        "train_size = int(0.8 * len(dataset))\n",
        "test_size = len(dataset) - train_size\n",
        "\n",
        "train_set, val_set = torch.utils.data.random_split(dataset,\n",
        "                                                   [train_size, test_size])\n",
        "\n",
        "train_loader = DataLoader(train_set, batch_size=batch_size)\n",
        "val_loader = DataLoader(val_set, batch_size=batch_size)\n",
        "del X\n",
        "del y\n",
        "del data"
      ]
    },
    {
      "cell_type": "code",
      "execution_count": 105,
      "metadata": {
        "id": "W98ezHnmvIRJ"
      },
      "outputs": [],
      "source": [
        "from torchsummary import summary\n",
        "class Net(nn.Module):\n",
        "    def __init__(self, dropout=0.3, pool2d=nn.AvgPool2d):\n",
        "        super(Net, self).__init__()\n",
        "        self.model = nn.Sequential(\n",
        "            nn.Conv2d(1, 32, 3),\n",
        "            nn.ReLU(),\n",
        "            nn.BatchNorm2d(32),\n",
        "            nn.Dropout(dropout),\n",
        "\n",
        "            pool2d(2),\n",
        "            nn.Conv2d(32, 128, 3),\n",
        "            nn.ReLU(),\n",
        "            nn.Dropout(dropout),\n",
        "            nn.BatchNorm2d(128),\n",
        "\n",
        "            nn.Conv2d(128, 64, 3),\n",
        "            nn.ReLU(),\n",
        "            nn.Dropout(dropout),\n",
        "            nn.BatchNorm2d(64),\n",
        "        \n",
        "            nn.Flatten(),\n",
        "            nn.Linear(5184, 10))\n",
        "            \n",
        "\n",
        "        self.quant = torch.quantization.QuantStub()\n",
        "        self.dequant = torch.quantization.DeQuantStub()\n",
        "\n",
        "    def forward(self, x):\n",
        "        x = self.quant(x)\n",
        "        x = self.model(x)\n",
        "        x = self.dequant(x)\n",
        "        return F.log_softmax(x, dim=1)\n"
      ]
    },
    {
      "cell_type": "code",
      "execution_count": 106,
      "metadata": {
        "colab": {
          "base_uri": "https://localhost:8080/"
        },
        "id": "XYnXK_MS1Pqk",
        "outputId": "22f7f935-28b2-4947-a42d-3e713d55770e"
      },
      "outputs": [
        {
          "name": "stdout",
          "output_type": "stream",
          "text": [
            "----------------------------------------------------------------\n",
            "        Layer (type)               Output Shape         Param #\n",
            "================================================================\n",
            "         QuantStub-1            [-1, 1, 28, 28]               0\n",
            "            Conv2d-2           [-1, 32, 26, 26]             320\n",
            "              ReLU-3           [-1, 32, 26, 26]               0\n",
            "       BatchNorm2d-4           [-1, 32, 26, 26]              64\n",
            "           Dropout-5           [-1, 32, 26, 26]               0\n",
            "         AvgPool2d-6           [-1, 32, 13, 13]               0\n",
            "            Conv2d-7          [-1, 128, 11, 11]          36,992\n",
            "              ReLU-8          [-1, 128, 11, 11]               0\n",
            "           Dropout-9          [-1, 128, 11, 11]               0\n",
            "      BatchNorm2d-10          [-1, 128, 11, 11]             256\n",
            "           Conv2d-11             [-1, 64, 9, 9]          73,792\n",
            "             ReLU-12             [-1, 64, 9, 9]               0\n",
            "          Dropout-13             [-1, 64, 9, 9]               0\n",
            "      BatchNorm2d-14             [-1, 64, 9, 9]             128\n",
            "          Flatten-15                 [-1, 5184]               0\n",
            "           Linear-16                   [-1, 10]          51,850\n",
            "      DeQuantStub-17                   [-1, 10]               0\n",
            "================================================================\n",
            "Total params: 163,402\n",
            "Trainable params: 163,402\n",
            "Non-trainable params: 0\n",
            "----------------------------------------------------------------\n",
            "Input size (MB): 0.00\n",
            "Forward/backward pass size (MB): 1.38\n",
            "Params size (MB): 0.62\n",
            "Estimated Total Size (MB): 2.00\n",
            "----------------------------------------------------------------\n"
          ]
        }
      ],
      "source": [
        "model_baseline = Net().to(device)\n",
        "summary(model_baseline, (1, 28, 28), device=device)"
      ]
    },
    {
      "cell_type": "code",
      "execution_count": 107,
      "metadata": {
        "id": "8NyzRIgSvIRK"
      },
      "outputs": [],
      "source": [
        "def train_model(model, epochs):\n",
        "    optimizer = torch.optim.Adam(model.parameters())\n",
        "\n",
        "    history = defaultdict(lambda: [])\n",
        "\n",
        "    for epoch in range(1, epochs + 1):\n",
        "        model.train()\n",
        "        train_loss = 0\n",
        "        correct = 0\n",
        "        for batch_idx, (data, target) in enumerate(train_loader):\n",
        "            data, target = data.to(device), target.to(device)\n",
        "            optimizer.zero_grad()\n",
        "            output = model(data)\n",
        "            loss = F.nll_loss(output, target)\n",
        "            loss.backward()\n",
        "            optimizer.step()\n",
        "\n",
        "            pred = output.argmax(dim=1, keepdim=True)\n",
        "            correct += pred.eq(target.view_as(pred)).sum().item()\n",
        "            train_loss += loss.item()\n",
        "\n",
        "        train_loss /= len(train_loader)\n",
        "        acc = correct / len(train_loader.dataset)\n",
        "        history['loss'].append(train_loss)\n",
        "        history['accuracy'].append(acc)\n",
        "\n",
        "        model.eval()\n",
        "        val_loss = 0\n",
        "        correct = 0\n",
        "        with torch.no_grad():\n",
        "            for data, target in val_loader:\n",
        "                data, target = data.to(device), target.to(device)\n",
        "                output = model(data)\n",
        "                val_loss += F.nll_loss(output, target, reduction='sum').item()\n",
        "                pred = output.argmax(dim=1, keepdim=True)\n",
        "                correct += pred.eq(target.view_as(pred)).sum().item()\n",
        "\n",
        "        val_loss /= len(val_loader.dataset)\n",
        "        val_acc = correct / len(val_loader.dataset)\n",
        "        history['val_loss'].append(val_loss)\n",
        "        history['val_accuracy'].append(val_acc)\n",
        "\n",
        "        print('Epoch %3d   Train loss: %f Acc: %f   Val loss: %f Acc: %f' %\n",
        "              (epoch, train_loss, acc, val_loss, val_acc))\n",
        "\n",
        "    return history"
      ]
    },
    {
      "cell_type": "code",
      "execution_count": 108,
      "metadata": {
        "id": "_E4B-IKwvIRL"
      },
      "outputs": [],
      "source": [
        "learning_rate = 1e-3\n",
        "step = 8\n",
        "epochs = 10"
      ]
    },
    {
      "cell_type": "code",
      "execution_count": 110,
      "metadata": {
        "colab": {
          "base_uri": "https://localhost:8080/"
        },
        "id": "iOe1VeOLvIRM",
        "outputId": "2e3beba8-17eb-4d46-efb7-6dfa503ad6c8"
      },
      "outputs": [
        {
          "name": "stdout",
          "output_type": "stream",
          "text": [
            "Epoch   1   Train loss: 0.323068 Acc: 0.891108   Val loss: 0.552668 Acc: 0.846700\n",
            "Epoch   2   Train loss: 0.271301 Acc: 0.907766   Val loss: 0.593671 Acc: 0.840222\n",
            "Epoch   3   Train loss: 0.248019 Acc: 0.914167   Val loss: 0.594997 Acc: 0.843924\n",
            "Epoch   4   Train loss: 0.226009 Acc: 0.923190   Val loss: 0.581874 Acc: 0.851326\n",
            "Epoch   5   Train loss: 0.211241 Acc: 0.926968   Val loss: 0.596245 Acc: 0.850709\n",
            "Epoch   6   Train loss: 0.192622 Acc: 0.933446   Val loss: 0.612727 Acc: 0.847316\n",
            "Epoch   7   Train loss: 0.184716 Acc: 0.934835   Val loss: 0.643671 Acc: 0.848242\n",
            "Epoch   8   Train loss: 0.175513 Acc: 0.937688   Val loss: 0.625383 Acc: 0.844849\n",
            "Epoch   9   Train loss: 0.158829 Acc: 0.943857   Val loss: 0.643739 Acc: 0.853486\n",
            "Epoch  10   Train loss: 0.152109 Acc: 0.947868   Val loss: 0.640741 Acc: 0.851635\n"
          ]
        }
      ],
      "source": [
        "history_baseline = train_model(model_baseline, epochs=10)"
      ]
    },
    {
      "cell_type": "code",
      "execution_count": 111,
      "metadata": {
        "id": "QM12-kbU2Sw5"
      },
      "outputs": [],
      "source": [
        "def plot_history(history, title):\n",
        "    plt.figure(figsize=(15, 7))\n",
        "    plt.suptitle(title)\n",
        "\n",
        "    plt.subplot(121)\n",
        "    plt.plot(history['accuracy'], label='train')\n",
        "    plt.plot(history['val_accuracy'], label='val')\n",
        "    plt.ylabel('accuracy')\n",
        "    plt.xlabel('epoch')\n",
        "    plt.legend()\n",
        "\n",
        "    plt.subplot(122)\n",
        "    plt.plot(history['loss'], label='train')\n",
        "    plt.plot(history['val_loss'], label='val')\n",
        "    plt.ylabel('loss')\n",
        "    plt.xlabel('epoch')\n",
        "    plt.legend()"
      ]
    },
    {
      "cell_type": "code",
      "execution_count": 112,
      "metadata": {
        "colab": {
          "base_uri": "https://localhost:8080/",
          "height": 493
        },
        "id": "o9pkORot2TPh",
        "outputId": "8bee9850-699b-4f28-ecf8-a94272ad365a"
      },
      "outputs": [
        {
          "data": {
            "image/png": "[encoded data removed]",
            "text/plain": [
              "<Figure size 1080x504 with 2 Axes>"
            ]
          },
          "metadata": {
            "needs_background": "light"
          },
          "output_type": "display_data"
        }
      ],
      "source": [
        "plot_history(history_baseline, 'Baseline training')"
      ]
    },
    {
      "cell_type": "code",
      "execution_count": 113,
      "metadata": {
        "id": "N0iKthfJ2arp"
      },
      "outputs": [],
      "source": [
        "torch.save(model_baseline, 'model_baseline.pt')"
      ]
    },
    {
      "cell_type": "markdown",
      "metadata": {
        "id": "yx2UNeHSvIRM"
      },
      "source": [
        "# Optymalizacja modelu"
      ]
    },
    {
      "cell_type": "code",
      "execution_count": 114,
      "metadata": {
        "id": "3BvRZPpqwr50"
      },
      "outputs": [],
      "source": [
        "model_baseline_fused = torch.load('model_baseline.pt')"
      ]
    },
    {
      "cell_type": "code",
      "execution_count": 115,
      "metadata": {
        "colab": {
          "base_uri": "https://localhost:8080/"
        },
        "id": "Q7GOB8gFxN2d",
        "outputId": "93ca6184-a16f-41aa-87cb-e48486274e26"
      },
      "outputs": [
        {
          "data": {
            "text/plain": [
              "Net(\n",
              "  (model): Sequential(\n",
              "    (0): Conv2d(1, 32, kernel_size=(3, 3), stride=(1, 1))\n",
              "    (1): ReLU()\n",
              "    (2): BatchNorm2d(32, eps=1e-05, momentum=0.1, affine=True, track_running_stats=True)\n",
              "    (3): Dropout(p=0.3, inplace=False)\n",
              "    (4): AvgPool2d(kernel_size=2, stride=2, padding=0)\n",
              "    (5): Conv2d(32, 128, kernel_size=(3, 3), stride=(1, 1))\n",
              "    (6): ReLU()\n",
              "    (7): Dropout(p=0.3, inplace=False)\n",
              "    (8): BatchNorm2d(128, eps=1e-05, momentum=0.1, affine=True, track_running_stats=True)\n",
              "    (9): Conv2d(128, 64, kernel_size=(3, 3), stride=(1, 1))\n",
              "    (10): ReLU()\n",
              "    (11): Dropout(p=0.3, inplace=False)\n",
              "    (12): BatchNorm2d(64, eps=1e-05, momentum=0.1, affine=True, track_running_stats=True)\n",
              "    (13): Flatten(start_dim=1, end_dim=-1)\n",
              "    (14): Linear(in_features=5184, out_features=10, bias=True)\n",
              "  )\n",
              "  (quant): QuantStub()\n",
              "  (dequant): DeQuantStub()\n",
              ")"
            ]
          },
          "execution_count": 115,
          "metadata": {},
          "output_type": "execute_result"
        }
      ],
      "source": [
        "model_baseline_fused.eval()"
      ]
    },
    {
      "cell_type": "code",
      "execution_count": 116,
      "metadata": {
        "id": "KUMz6e2h2fuJ"
      },
      "outputs": [],
      "source": [
        "def get_fuse_modules(model):\n",
        "    modules_list = list(model.model.named_modules())\n",
        "\n",
        "    fuse_modules = []\n",
        "    for i in range(len(modules_list)):\n",
        "        if isinstance(modules_list[i][1], nn.Conv2d):\n",
        "            if isinstance(modules_list[i + 1][1], nn.ReLU):\n",
        "                fuse_modules.append(\n",
        "                    [modules_list[i][0], modules_list[i + 1][0]])\n",
        "\n",
        "    return fuse_modules"
      ]
    },
    {
      "cell_type": "code",
      "execution_count": 117,
      "metadata": {
        "colab": {
          "base_uri": "https://localhost:8080/"
        },
        "id": "uw7hhuXj2inA",
        "outputId": "034a3a03-1105-41de-e373-2e85179061bd"
      },
      "outputs": [
        {
          "data": {
            "text/plain": [
              "Sequential(\n",
              "  (0): ConvReLU2d(\n",
              "    (0): Conv2d(1, 32, kernel_size=(3, 3), stride=(1, 1))\n",
              "    (1): ReLU()\n",
              "  )\n",
              "  (1): Identity()\n",
              "  (2): BatchNorm2d(32, eps=1e-05, momentum=0.1, affine=True, track_running_stats=True)\n",
              "  (3): Dropout(p=0.3, inplace=False)\n",
              "  (4): AvgPool2d(kernel_size=2, stride=2, padding=0)\n",
              "  (5): ConvReLU2d(\n",
              "    (0): Conv2d(32, 128, kernel_size=(3, 3), stride=(1, 1))\n",
              "    (1): ReLU()\n",
              "  )\n",
              "  (6): Identity()\n",
              "  (7): Dropout(p=0.3, inplace=False)\n",
              "  (8): BatchNorm2d(128, eps=1e-05, momentum=0.1, affine=True, track_running_stats=True)\n",
              "  (9): ConvReLU2d(\n",
              "    (0): Conv2d(128, 64, kernel_size=(3, 3), stride=(1, 1))\n",
              "    (1): ReLU()\n",
              "  )\n",
              "  (10): Identity()\n",
              "  (11): Dropout(p=0.3, inplace=False)\n",
              "  (12): BatchNorm2d(64, eps=1e-05, momentum=0.1, affine=True, track_running_stats=True)\n",
              "  (13): Flatten(start_dim=1, end_dim=-1)\n",
              "  (14): Linear(in_features=5184, out_features=10, bias=True)\n",
              ")"
            ]
          },
          "execution_count": 117,
          "metadata": {},
          "output_type": "execute_result"
        }
      ],
      "source": [
        "fuse_modules = get_fuse_modules(model_baseline_fused)\n",
        "\n",
        "quantization.fuse_modules(model_baseline_fused.model,\n",
        "                          fuse_modules,\n",
        "                          inplace=True)\n"
      ]
    },
    {
      "cell_type": "code",
      "execution_count": 118,
      "metadata": {
        "colab": {
          "base_uri": "https://localhost:8080/"
        },
        "id": "lhIgeWPi2jvY",
        "outputId": "d8fe5db0-761e-49ab-bcb8-9715d795716b"
      },
      "outputs": [
        {
          "data": {
            "text/plain": [
              "Net(\n",
              "  (model): Sequential(\n",
              "    (0): ConvReLU2d(\n",
              "      (0): Conv2d(1, 32, kernel_size=(3, 3), stride=(1, 1))\n",
              "      (1): ReLU()\n",
              "    )\n",
              "    (1): Identity()\n",
              "    (2): BatchNorm2d(32, eps=1e-05, momentum=0.1, affine=True, track_running_stats=True)\n",
              "    (3): Dropout(p=0.3, inplace=False)\n",
              "    (4): AvgPool2d(kernel_size=2, stride=2, padding=0)\n",
              "    (5): ConvReLU2d(\n",
              "      (0): Conv2d(32, 128, kernel_size=(3, 3), stride=(1, 1))\n",
              "      (1): ReLU()\n",
              "    )\n",
              "    (6): Identity()\n",
              "    (7): Dropout(p=0.3, inplace=False)\n",
              "    (8): BatchNorm2d(128, eps=1e-05, momentum=0.1, affine=True, track_running_stats=True)\n",
              "    (9): ConvReLU2d(\n",
              "      (0): Conv2d(128, 64, kernel_size=(3, 3), stride=(1, 1))\n",
              "      (1): ReLU()\n",
              "    )\n",
              "    (10): Identity()\n",
              "    (11): Dropout(p=0.3, inplace=False)\n",
              "    (12): BatchNorm2d(64, eps=1e-05, momentum=0.1, affine=True, track_running_stats=True)\n",
              "    (13): Flatten(start_dim=1, end_dim=-1)\n",
              "    (14): Linear(in_features=5184, out_features=10, bias=True)\n",
              "  )\n",
              "  (quant): QuantStub()\n",
              "  (dequant): DeQuantStub()\n",
              ")"
            ]
          },
          "execution_count": 118,
          "metadata": {},
          "output_type": "execute_result"
        }
      ],
      "source": [
        "model_baseline_fused"
      ]
    },
    {
      "cell_type": "code",
      "execution_count": 119,
      "metadata": {
        "id": "yEjfz4A92nck"
      },
      "outputs": [],
      "source": [
        "torch.save(model_baseline_fused, 'model_baseline_fused.pt')"
      ]
    },
    {
      "cell_type": "code",
      "execution_count": 120,
      "metadata": {
        "colab": {
          "base_uri": "https://localhost:8080/"
        },
        "id": "LY8rf1E62rdW",
        "outputId": "5c4ed6a7-4849-4ea7-aa5b-580a92e2a527"
      },
      "outputs": [
        {
          "data": {
            "text/plain": [
              "Net(\n",
              "  (model): Sequential(\n",
              "    (0): ConvReLU2d(\n",
              "      (0): Conv2d(1, 32, kernel_size=(3, 3), stride=(1, 1))\n",
              "      (1): ReLU()\n",
              "    )\n",
              "    (1): Identity()\n",
              "    (2): BatchNorm2d(32, eps=1e-05, momentum=0.1, affine=True, track_running_stats=True)\n",
              "    (3): Dropout(p=0.3, inplace=False)\n",
              "    (4): AvgPool2d(kernel_size=2, stride=2, padding=0)\n",
              "    (5): ConvReLU2d(\n",
              "      (0): Conv2d(32, 128, kernel_size=(3, 3), stride=(1, 1))\n",
              "      (1): ReLU()\n",
              "    )\n",
              "    (6): Identity()\n",
              "    (7): Dropout(p=0.3, inplace=False)\n",
              "    (8): BatchNorm2d(128, eps=1e-05, momentum=0.1, affine=True, track_running_stats=True)\n",
              "    (9): ConvReLU2d(\n",
              "      (0): Conv2d(128, 64, kernel_size=(3, 3), stride=(1, 1))\n",
              "      (1): ReLU()\n",
              "    )\n",
              "    (10): Identity()\n",
              "    (11): Dropout(p=0.3, inplace=False)\n",
              "    (12): BatchNorm2d(64, eps=1e-05, momentum=0.1, affine=True, track_running_stats=True)\n",
              "    (13): Flatten(start_dim=1, end_dim=-1)\n",
              "    (14): Linear(in_features=5184, out_features=10, bias=True)\n",
              "  )\n",
              "  (quant): QuantStub()\n",
              "  (dequant): DeQuantStub()\n",
              ")"
            ]
          },
          "execution_count": 120,
          "metadata": {},
          "output_type": "execute_result"
        }
      ],
      "source": [
        "model_quant = torch.load('model_baseline_fused.pt')\n",
        "model_quant.eval()"
      ]
    },
    {
      "cell_type": "code",
      "execution_count": 121,
      "metadata": {
        "colab": {
          "base_uri": "https://localhost:8080/"
        },
        "id": "y4NrysQf2ukM",
        "outputId": "af4bc6d3-e66e-4d52-9fce-c0875981645d"
      },
      "outputs": [
        {
          "data": {
            "text/plain": [
              "Net(\n",
              "  (model): Sequential(\n",
              "    (0): ConvReLU2d(\n",
              "      (0): Conv2d(1, 32, kernel_size=(3, 3), stride=(1, 1))\n",
              "      (1): ReLU()\n",
              "      (activation_post_process): HistogramObserver()\n",
              "    )\n",
              "    (1): Identity()\n",
              "    (2): BatchNorm2d(\n",
              "      32, eps=1e-05, momentum=0.1, affine=True, track_running_stats=True\n",
              "      (activation_post_process): HistogramObserver()\n",
              "    )\n",
              "    (3): Dropout(p=0.3, inplace=False)\n",
              "    (4): AvgPool2d(kernel_size=2, stride=2, padding=0)\n",
              "    (5): ConvReLU2d(\n",
              "      (0): Conv2d(32, 128, kernel_size=(3, 3), stride=(1, 1))\n",
              "      (1): ReLU()\n",
              "      (activation_post_process): HistogramObserver()\n",
              "    )\n",
              "    (6): Identity()\n",
              "    (7): Dropout(p=0.3, inplace=False)\n",
              "    (8): BatchNorm2d(\n",
              "      128, eps=1e-05, momentum=0.1, affine=True, track_running_stats=True\n",
              "      (activation_post_process): HistogramObserver()\n",
              "    )\n",
              "    (9): ConvReLU2d(\n",
              "      (0): Conv2d(128, 64, kernel_size=(3, 3), stride=(1, 1))\n",
              "      (1): ReLU()\n",
              "      (activation_post_process): HistogramObserver()\n",
              "    )\n",
              "    (10): Identity()\n",
              "    (11): Dropout(p=0.3, inplace=False)\n",
              "    (12): BatchNorm2d(\n",
              "      64, eps=1e-05, momentum=0.1, affine=True, track_running_stats=True\n",
              "      (activation_post_process): HistogramObserver()\n",
              "    )\n",
              "    (13): Flatten(start_dim=1, end_dim=-1)\n",
              "    (14): Linear(\n",
              "      in_features=5184, out_features=10, bias=True\n",
              "      (activation_post_process): HistogramObserver()\n",
              "    )\n",
              "  )\n",
              "  (quant): QuantStub(\n",
              "    (activation_post_process): HistogramObserver()\n",
              "  )\n",
              "  (dequant): DeQuantStub()\n",
              ")"
            ]
          },
          "execution_count": 121,
          "metadata": {},
          "output_type": "execute_result"
        }
      ],
      "source": [
        "torch.backends.quantized.engine = 'qnnpack'\n",
        "model_quant.qconfig = quantization.get_default_qconfig('qnnpack')\n",
        "quantization.prepare(model_quant, inplace=True)  # added observers\n"
      ]
    },
    {
      "cell_type": "code",
      "execution_count": 122,
      "metadata": {
        "id": "-97H82bw273g"
      },
      "outputs": [],
      "source": [
        "num_calibration_batches = 10\n",
        "\n",
        "model_quant.eval()\n",
        "for i, (batch, target) in enumerate(train_loader):\n",
        "    batch, target = batch.to(device), target.to(device)\n",
        "    model_quant(batch)\n",
        "\n",
        "    if i + 1 == num_calibration_batches:\n",
        "        break"
      ]
    },
    {
      "cell_type": "code",
      "execution_count": 123,
      "metadata": {
        "id": "XNDnaY_v3EXR"
      },
      "outputs": [],
      "source": [
        "model_quant = quantization.convert(model_quant)"
      ]
    },
    {
      "cell_type": "code",
      "execution_count": 124,
      "metadata": {
        "id": "IKtxMyzv4qui"
      },
      "outputs": [],
      "source": [
        "torch.save(model_quant, 'model_quant.pt')"
      ]
    },
    {
      "cell_type": "code",
      "execution_count": 125,
      "metadata": {
        "id": "hD6K-k8E4rK5"
      },
      "outputs": [],
      "source": [
        "model_qat = Net()\n",
        "\n",
        "fuse_modules = get_fuse_modules(model_qat)\n",
        "quantization.fuse_modules(model_qat.model, fuse_modules, inplace=True)\n",
        "\n",
        "model_qat.qconfig = quantization.get_default_qconfig('qnnpack')"
      ]
    },
    {
      "cell_type": "code",
      "execution_count": 126,
      "metadata": {
        "colab": {
          "base_uri": "https://localhost:8080/"
        },
        "id": "JGSYj4zN4uJ-",
        "outputId": "910b0292-a30d-4f73-cee2-e2da8cfa6bc7"
      },
      "outputs": [
        {
          "data": {
            "text/plain": [
              "Net(\n",
              "  (model): Sequential(\n",
              "    (0): ConvReLU2d(\n",
              "      1, 32, kernel_size=(3, 3), stride=(1, 1)\n",
              "      (weight_fake_quant): MinMaxObserver(min_val=inf, max_val=-inf)\n",
              "      (activation_post_process): HistogramObserver()\n",
              "    )\n",
              "    (1): Identity()\n",
              "    (2): BatchNorm2d(\n",
              "      32, eps=1e-05, momentum=0.1, affine=True, track_running_stats=True\n",
              "      (activation_post_process): HistogramObserver()\n",
              "    )\n",
              "    (3): Dropout(p=0.3, inplace=False)\n",
              "    (4): AvgPool2d(kernel_size=2, stride=2, padding=0)\n",
              "    (5): ConvReLU2d(\n",
              "      32, 128, kernel_size=(3, 3), stride=(1, 1)\n",
              "      (weight_fake_quant): MinMaxObserver(min_val=inf, max_val=-inf)\n",
              "      (activation_post_process): HistogramObserver()\n",
              "    )\n",
              "    (6): Identity()\n",
              "    (7): Dropout(p=0.3, inplace=False)\n",
              "    (8): BatchNorm2d(\n",
              "      128, eps=1e-05, momentum=0.1, affine=True, track_running_stats=True\n",
              "      (activation_post_process): HistogramObserver()\n",
              "    )\n",
              "    (9): ConvReLU2d(\n",
              "      128, 64, kernel_size=(3, 3), stride=(1, 1)\n",
              "      (weight_fake_quant): MinMaxObserver(min_val=inf, max_val=-inf)\n",
              "      (activation_post_process): HistogramObserver()\n",
              "    )\n",
              "    (10): Identity()\n",
              "    (11): Dropout(p=0.3, inplace=False)\n",
              "    (12): BatchNorm2d(\n",
              "      64, eps=1e-05, momentum=0.1, affine=True, track_running_stats=True\n",
              "      (activation_post_process): HistogramObserver()\n",
              "    )\n",
              "    (13): Flatten(start_dim=1, end_dim=-1)\n",
              "    (14): Linear(\n",
              "      in_features=5184, out_features=10, bias=True\n",
              "      (weight_fake_quant): MinMaxObserver(min_val=inf, max_val=-inf)\n",
              "      (activation_post_process): HistogramObserver()\n",
              "    )\n",
              "  )\n",
              "  (quant): QuantStub(\n",
              "    (activation_post_process): HistogramObserver()\n",
              "  )\n",
              "  (dequant): DeQuantStub()\n",
              ")"
            ]
          },
          "execution_count": 126,
          "metadata": {},
          "output_type": "execute_result"
        }
      ],
      "source": [
        "quantization.prepare_qat(model_qat,\n",
        "                         inplace=True)  # performs \"fake quantization\"\n"
      ]
    },
    {
      "cell_type": "code",
      "execution_count": 127,
      "metadata": {
        "colab": {
          "base_uri": "https://localhost:8080/"
        },
        "id": "9pdspFoh4vOZ",
        "outputId": "138bc479-cc82-4d3c-8f38-7010a5e6060b"
      },
      "outputs": [
        {
          "name": "stdout",
          "output_type": "stream",
          "text": [
            "Epoch   1   Train loss: 1.028683 Acc: 0.667464   Val loss: 0.707750 Acc: 0.777915\n",
            "Epoch   2   Train loss: 0.674882 Acc: 0.786149   Val loss: 0.619389 Acc: 0.809994\n",
            "Epoch   3   Train loss: 0.563311 Acc: 0.821007   Val loss: 0.592425 Acc: 0.817705\n",
            "Epoch   4   Train loss: 0.490148 Acc: 0.842523   Val loss: 0.550575 Acc: 0.834053\n",
            "Epoch   5   Train loss: 0.425847 Acc: 0.863731   Val loss: 0.549259 Acc: 0.838371\n",
            "Epoch   6   Train loss: 0.377645 Acc: 0.876456   Val loss: 0.519291 Acc: 0.842690\n",
            "Epoch   7   Train loss: 0.341198 Acc: 0.889026   Val loss: 0.516363 Acc: 0.851018\n",
            "Epoch   8   Train loss: 0.303123 Acc: 0.896044   Val loss: 0.525430 Acc: 0.847933\n",
            "Epoch   9   Train loss: 0.274085 Acc: 0.908691   Val loss: 0.522362 Acc: 0.853486\n",
            "Epoch  10   Train loss: 0.247462 Acc: 0.913550   Val loss: 0.538037 Acc: 0.846083\n"
          ]
        }
      ],
      "source": [
        "history_qat = train_model(model_qat, epochs=10)"
      ]
    },
    {
      "cell_type": "code",
      "execution_count": 128,
      "metadata": {
        "colab": {
          "base_uri": "https://localhost:8080/",
          "height": 493
        },
        "id": "CsluWS1k4w7q",
        "outputId": "7a3a4e1c-1e62-4228-fdf0-7a97f7d83eda"
      },
      "outputs": [
        {
          "data": {
            "image/png": "[encoded data removed]",
            "text/plain": [
              "<Figure size 1080x504 with 2 Axes>"
            ]
          },
          "metadata": {
            "needs_background": "light"
          },
          "output_type": "display_data"
        }
      ],
      "source": [
        "plot_history(history_qat, 'Quantization aware training')"
      ]
    },
    {
      "cell_type": "code",
      "execution_count": 129,
      "metadata": {
        "id": "0-OGMpYz4yHl"
      },
      "outputs": [],
      "source": [
        "model_qat.eval()\n",
        "model_qat = torch.quantization.convert(model_qat, inplace=False)"
      ]
    },
    {
      "cell_type": "code",
      "execution_count": 130,
      "metadata": {
        "id": "Iksgwl2O40BG"
      },
      "outputs": [],
      "source": [
        "torch.save(model_qat, 'model_qat.pt')"
      ]
    },
    {
      "cell_type": "code",
      "execution_count": 131,
      "metadata": {
        "id": "mDKjZqFV41iT"
      },
      "outputs": [],
      "source": [
        "def evaluate_model(model, model_name):\n",
        "    model.eval()\n",
        "    correct = 0\n",
        "    with torch.no_grad():\n",
        "        for data, target in val_loader:\n",
        "            data, target = data.to(device), target.to(device)\n",
        "            output = model(data)\n",
        "            pred = output.argmax(dim=1, keepdim=True)\n",
        "            correct += pred.eq(target.view_as(pred)).sum().item()\n",
        "\n",
        "        acc = correct / len(val_loader.dataset)\n",
        "\n",
        "    print(model_name, 'test accuracy:', acc)"
      ]
    },
    {
      "cell_type": "markdown",
      "metadata": {
        "id": "AziLnogpvIRN"
      },
      "source": [
        "# Porównanie przed i po - Validation Accuracy"
      ]
    },
    {
      "cell_type": "code",
      "execution_count": 135,
      "metadata": {
        "colab": {
          "base_uri": "https://localhost:8080/"
        },
        "id": "LxVhRuNBvIRN",
        "outputId": "85b1ae79-8f41-49e6-a9f0-4ea6883c7e65"
      },
      "outputs": [
        {
          "name": "stdout",
          "output_type": "stream",
          "text": [
            "Baseline test accuracy: 0.8516347933374461\n",
            "Static Quantization test accuracy: 0.8488587291795188\n",
            "Quantization aware trained model test accuracy: 0.8476249228871067\n"
          ]
        }
      ],
      "source": [
        "evaluate_model(model_baseline_fused, 'Baseline')\n",
        "evaluate_model(model_quant, 'Static Quantization')\n",
        "evaluate_model(model_qat, 'Quantization aware trained model')"
      ]
    },
    {
      "cell_type": "markdown",
      "metadata": {
        "id": "ntGTh-vtvIRN"
      },
      "source": [
        "# Porównanie przed i po - Model size"
      ]
    },
    {
      "cell_type": "code",
      "execution_count": 136,
      "metadata": {
        "colab": {
          "base_uri": "https://localhost:8080/"
        },
        "id": "-53jChzEvIRO",
        "outputId": "5a5e1bc9-5fd2-48ea-d863-8572174c5b6b"
      },
      "outputs": [
        {
          "name": "stdout",
          "output_type": "stream",
          "text": [
            "pt model files size:\n",
            "\n",
            "Baseline:                   666528 bytes\n",
            "Static quantization:        179464 bytes\n",
            "Quantization aware trained: 179464 bytes\n"
          ]
        }
      ],
      "source": [
        "print('pt model files size:\\n')\n",
        "print('Baseline:                   {} bytes'.format(os.path.getsize('model_baseline_fused.pt')))\n",
        "print('Static quantization:        {} bytes'.format(os.path.getsize('model_quant.pt')))\n",
        "print('Quantization aware trained: {} bytes'.format(os.path.getsize('model_qat.pt')))"
      ]
    },
    {
      "cell_type": "code",
      "execution_count": 137,
      "metadata": {
        "colab": {
          "base_uri": "https://localhost:8080/"
        },
        "id": "qTLx8-c45FAd",
        "outputId": "8443b116-8adb-4ff6-9337-7601bac3781c"
      },
      "outputs": [
        {
          "data": {
            "text/plain": [
              "3.7139927784959657"
            ]
          },
          "execution_count": 137,
          "metadata": {},
          "output_type": "execute_result"
        }
      ],
      "source": [
        "os.path.getsize('model_baseline_fused.pt') / os.path.getsize('model_quant.pt')"
      ]
    },
    {
      "cell_type": "markdown",
      "metadata": {
        "id": "iH-eeNqwvIRO"
      },
      "source": [
        "# Summary / extra"
      ]
    },
    {
      "cell_type": "code",
      "execution_count": 151,
      "metadata": {
        "id": "Kjzdy3VWvIRO"
      },
      "outputs": [],
      "source": [
        "model_sparse = torch.load('model_baseline.pt')\n",
        "model_baseline = torch.load('model_baseline.pt')"
      ]
    },
    {
      "cell_type": "code",
      "execution_count": 147,
      "metadata": {
        "colab": {
          "base_uri": "https://localhost:8080/",
          "height": 574
        },
        "id": "ImKGcCkp6-bp",
        "outputId": "0e858fa0-7757-4300-aac1-252b5556b1a2"
      },
      "outputs": [
        {
          "data": {
            "image/png": "[encoded data removed]",
            "text/plain": [
              "<Figure size 1440x720 with 8 Axes>"
            ]
          },
          "metadata": {},
          "output_type": "display_data"
        }
      ],
      "source": [
        "import seaborn as sns\n",
        "\n",
        "sns.set(style='whitegrid', font_scale=1.5)\n",
        "\n",
        "w = model_sparse.model[0].weight.cpu()[:, 0, :, :].detach().numpy()\n",
        "\n",
        "plt.figure(figsize=(20, 10))\n",
        "for i in range(8):\n",
        "    plt.subplot(2, 4, 1 + i)\n",
        "    sns.heatmap(w[i],\n",
        "                cmap=\"bwr\",\n",
        "                annot=w[i],\n",
        "                cbar=False,\n",
        "                vmin=-1,\n",
        "                vmax=1,\n",
        "                linewidths=1,\n",
        "                linecolor=(0, 0, 0))\n",
        "    plt.xticks([])\n",
        "    plt.yticks([])"
      ]
    },
    {
      "cell_type": "code",
      "execution_count": 152,
      "metadata": {
        "id": "KQgag4ET6D6w"
      },
      "outputs": [],
      "source": [
        "for layer in model_sparse.model:\n",
        "    if isinstance(layer, torch.nn.Conv2d):\n",
        "        prune.l1_unstructured(layer, name='weight', amount=0.8)\n",
        "\n",
        "    if isinstance(layer, torch.nn.Linear):\n",
        "        prune.l1_unstructured(layer, name='weight', amount=0.8)"
      ]
    },
    {
      "cell_type": "code",
      "execution_count": 155,
      "metadata": {
        "colab": {
          "base_uri": "https://localhost:8080/"
        },
        "id": "Jgq19n8S6LHO",
        "outputId": "9686a30a-4a0c-44ad-844e-efef91b6481f"
      },
      "outputs": [
        {
          "name": "stdout",
          "output_type": "stream",
          "text": [
            "Baseline test accuracy: 0.8516347933374461\n",
            "Sparse test accuracy: 0.13417643429981493\n"
          ]
        }
      ],
      "source": [
        "evaluate_model(model_baseline, 'Baseline')\n",
        "evaluate_model(model_sparse, 'Sparse')"
      ]
    },
    {
      "cell_type": "code",
      "execution_count": 157,
      "metadata": {
        "colab": {
          "base_uri": "https://localhost:8080/"
        },
        "id": "8vSdReBo6oQ6",
        "outputId": "dce3706e-27bd-4b85-e2fe-5de0bdaaef79"
      },
      "outputs": [
        {
          "name": "stdout",
          "output_type": "stream",
          "text": [
            "Epoch   1   Train loss: 0.907841 Acc: 0.712809   Val loss: 0.699300 Acc: 0.791487\n",
            "Epoch   2   Train loss: 0.595167 Acc: 0.803116   Val loss: 0.640627 Acc: 0.809377\n",
            "Epoch   3   Train loss: 0.501591 Acc: 0.830493   Val loss: 0.610718 Acc: 0.818630\n",
            "Epoch   4   Train loss: 0.455596 Acc: 0.847922   Val loss: 0.590661 Acc: 0.828192\n",
            "Epoch   5   Train loss: 0.424528 Acc: 0.855325   Val loss: 0.584758 Acc: 0.829118\n"
          ]
        }
      ],
      "source": [
        "history_sparse = train_model(model_sparse, 5)"
      ]
    },
    {
      "cell_type": "code",
      "execution_count": 158,
      "metadata": {
        "colab": {
          "base_uri": "https://localhost:8080/",
          "height": 511
        },
        "id": "D20GrS4o8DuT",
        "outputId": "9bf9d5e3-ac8b-4b29-c385-a0994ec7866f"
      },
      "outputs": [
        {
          "data": {
            "image/png": "[encoded data removed]",
            "text/plain": [
              "<Figure size 1080x504 with 2 Axes>"
            ]
          },
          "metadata": {},
          "output_type": "display_data"
        }
      ],
      "source": [
        "plot_history(history_sparse, 'Pruned model fine-tuning')"
      ]
    },
    {
      "cell_type": "code",
      "execution_count": 159,
      "metadata": {
        "colab": {
          "base_uri": "https://localhost:8080/",
          "height": 574
        },
        "id": "HVrqlMgG8Fi_",
        "outputId": "439c2116-6a7c-4bcc-ec5c-22c0e5007b74"
      },
      "outputs": [
        {
          "data": {
            "image/png": "[encoded data removed]",
            "text/plain": [
              "<Figure size 1440x720 with 8 Axes>"
            ]
          },
          "metadata": {},
          "output_type": "display_data"
        }
      ],
      "source": [
        "w = model_sparse.model[0].weight.cpu()[:, 0, :, :].detach().numpy()\n",
        "\n",
        "plt.figure(figsize=(20, 10))\n",
        "for i in range(8):\n",
        "    plt.subplot(2, 4, 1 + i)\n",
        "    sns.heatmap(w[i],\n",
        "                cmap=\"bwr\",\n",
        "                annot=w[i],\n",
        "                cbar=False,\n",
        "                vmin=-1,\n",
        "                vmax=1,\n",
        "                linewidths=1,\n",
        "                linecolor=(0, 0, 0))\n",
        "    plt.xticks([])\n",
        "    plt.yticks([])"
      ]
    },
    {
      "cell_type": "code",
      "execution_count": 160,
      "metadata": {
        "id": "yXPozul18HF8"
      },
      "outputs": [],
      "source": [
        "for layer in model_sparse.model:\n",
        "    if isinstance(layer, torch.nn.Conv2d):\n",
        "        prune.remove(layer, 'weight')\n",
        "\n",
        "    if isinstance(layer, torch.nn.Linear):\n",
        "        prune.remove(layer, 'weight')"
      ]
    },
    {
      "cell_type": "code",
      "execution_count": 161,
      "metadata": {
        "id": "RbeoI7PM8K46"
      },
      "outputs": [],
      "source": [
        "torch.save(model_sparse, 'model_sparse.pt')"
      ]
    },
    {
      "cell_type": "code",
      "execution_count": 162,
      "metadata": {
        "colab": {
          "base_uri": "https://localhost:8080/"
        },
        "id": "ffQhIODt8Ni2",
        "outputId": "0ecfe780-d355-40fe-cca4-0b47562689b6"
      },
      "outputs": [
        {
          "name": "stdout",
          "output_type": "stream",
          "text": [
            "Baseline test accuracy: 0.8516347933374461\n",
            "Sparse test accuracy: 0.8291178285009253\n"
          ]
        }
      ],
      "source": [
        "evaluate_model(model_baseline, 'Baseline')\n",
        "evaluate_model(model_sparse, 'Sparse')"
      ]
    },
    {
      "cell_type": "code",
      "execution_count": 163,
      "metadata": {
        "colab": {
          "base_uri": "https://localhost:8080/"
        },
        "id": "b4_Ky4PH8PUt",
        "outputId": "4045f0f6-73a3-409a-ec10-3dfe2ce79f7a"
      },
      "outputs": [
        {
          "name": "stdout",
          "output_type": "stream",
          "text": [
            "pth model files size:\n",
            "\n",
            "Baseline: 665568 bytes\n",
            "Sparse:   665824 bytes\n"
          ]
        }
      ],
      "source": [
        "print('pth model files size:\\n')\n",
        "print('Baseline: {} bytes'.format(os.path.getsize('model_baseline.pt')))\n",
        "print('Sparse:   {} bytes'.format(os.path.getsize('model_sparse.pt')))"
      ]
    },
    {
      "cell_type": "code",
      "execution_count": 167,
      "metadata": {
        "id": "z61HciE38Pls"
      },
      "outputs": [],
      "source": [
        "with zipfile.ZipFile('model_baseline_pt.zip', 'w', compression=zipfile.ZIP_DEFLATED) as f:\n",
        "    f.write('model_baseline.pt')\n",
        "    \n",
        "with zipfile.ZipFile('model_sparse_pt.zip', 'w', compression=zipfile.ZIP_DEFLATED) as f:\n",
        "    f.write('model_sparse.pt')"
      ]
    },
    {
      "cell_type": "code",
      "execution_count": 168,
      "metadata": {
        "colab": {
          "base_uri": "https://localhost:8080/"
        },
        "id": "rd7z2cCW8SNd",
        "outputId": "434f1f85-9ef6-467d-ad6e-cbd69c38ecb5"
      },
      "outputs": [
        {
          "name": "stdout",
          "output_type": "stream",
          "text": [
            "Zipped model files size:\n",
            "\n",
            "Baseline: 612331 bytes\n",
            "Sparse:   202212 bytes\n"
          ]
        }
      ],
      "source": [
        "print('Zipped model files size:\\n')\n",
        "print('Baseline: {} bytes'.format(os.path.getsize('model_baseline_pt.zip')))\n",
        "print('Sparse:   {} bytes'.format(os.path.getsize('model_sparse_pt.zip')))"
      ]
    },
    {
      "cell_type": "code",
      "execution_count": 169,
      "metadata": {
        "colab": {
          "base_uri": "https://localhost:8080/"
        },
        "id": "YVnawN-G8ToE",
        "outputId": "8231c368-361c-482c-d31f-4917e61396b9"
      },
      "outputs": [
        {
          "data": {
            "text/plain": [
              "3.028163511562123"
            ]
          },
          "execution_count": 169,
          "metadata": {},
          "output_type": "execute_result"
        }
      ],
      "source": [
        "os.path.getsize('model_baseline_pt.zip') / os.path.getsize('model_sparse_pt.zip')"
      ]
    },
    {
      "cell_type": "code",
      "execution_count": 200,
      "metadata": {
        "id": "fGZTLIXR81qD"
      },
      "outputs": [],
      "source": [
        "import time\n",
        "\n",
        "\n",
        "def time_inference(model,\n",
        "                   num_iterations=100,\n",
        "                   batch_sizes=[512, 1024, 2048, 4096, 8192]):\n",
        "    model.eval()\n",
        "    times = []\n",
        "\n",
        "    for bs in batch_sizes:\n",
        "        val_loader = torch.utils.data.DataLoader(val_set,\n",
        "                                                 batch_size=bs,\n",
        "                                                 shuffle=False)\n",
        "        tt = []\n",
        "\n",
        "        for _ in tqdm(range(num_iterations)):\n",
        "            t = 0\n",
        "\n",
        "            with torch.no_grad():\n",
        "                for data, target in val_loader:\n",
        "                    data, target = data.to(device), target.to(device)\n",
        "\n",
        "                    t0 = time.time()\n",
        "                    output = model(data)\n",
        "                    t1 = time.time()\n",
        "                    t += t1 - t0\n",
        "\n",
        "                    del output\n",
        "            tt.append(t)\n",
        "        times.append(tt)\n",
        "\n",
        "    return np.array(times)"
      ]
    },
    {
      "cell_type": "code",
      "execution_count": 178,
      "metadata": {
        "id": "57aR-Kg992mB"
      },
      "outputs": [],
      "source": [
        "device = 'cuda'"
      ]
    },
    {
      "cell_type": "code",
      "execution_count": 201,
      "metadata": {
        "colab": {
          "base_uri": "https://localhost:8080/",
          "height": 177,
          "referenced_widgets": [
            "b7f5c1425aae4f559011ce4e7eb6db6c",
            "00f729ccec4a47eabfd1f3f3e9ea7eef",
            "998777c2e5544d0294344406a1623023",
            "69de1acec904475fbdd930ffc1e14895",
            "b9138fae26e643d98a8965979640bb5c",
            "d974c08f80aa49c0984d01ee4f13c142",
            "46558571462b42149744224d2c49345d",
            "3d139af3a1624f20babf1b8c1a09c7ab",
            "9c8512a295854c729f66e44a2308c522",
            "d0d04a41f7fa4f0c9f966e7a8f5d1ac8",
            "351412a6ddec4ff991dd11d0894c2383",
            "56d0c82b9244494d803d033142d6827b",
            "56a251d6dedc494098f29e15eed94c09",
            "2733475c1ee74747850d00282a8c938a",
            "fe5d4c6461a1412cb65a41e43e09f93b",
            "fa28dde4270648f4a71d5365c598b7f3",
            "35b22ccbdd7d492f873ff0605ace3b79",
            "70f68e9ea01a4cf3b84fdca96e0ac4da",
            "e6d0a2968dbb4d37b7287f012973e3f5",
            "2b70680fdbb44ff49f9a69a1f891b65d",
            "098a4a6bd662452892d4f2d17ccc1933",
            "d87ef873358a4cbaac5aaa1c640b4ee9",
            "5d7156fdf5de40ada8ba991efdbe8ca9",
            "3870479b81084e05bc115977c2123e72",
            "a4f4fcf9d9bf45a1bce0eb8cd25448d9",
            "da6efa4210e848e38f7b57b7b30f5e56",
            "86e66b9c6cd444a7ace3d0c27b0b2cc3",
            "f67156c3cb3241ddb3b68b1a047e9f54",
            "f9580b67f644402b83bdfebd23b39ed4",
            "1107637f418c4d6fa8f1ef89b0be7ff0",
            "089529ceeaa14f188c196c3a66b22c4e",
            "c90c000970ab4a4ebe2494b067fe570d",
            "e796389075c745e49671b2326835c59f",
            "4cc3ed373d854cf4a67f8d4df6c57dec",
            "072ce0403cf2445787c049baf346b1a7",
            "81da5911279c4c1d8de8752fe42910f3",
            "abaa05ba845b42d8a203ffe070473853",
            "f7f741f2282f4b599180c8f6dc463331",
            "24fd0066157f47eb970f48ce873fed4f",
            "c651a7633fa04541a448c654205bb213",
            "ec434c0f222941cbaa216bf2358d251e",
            "be3502c3d5d04c899b5d5193258a59f1",
            "5500d1c4322a4e32b16ec9c58228c6db",
            "7b891dd17d4947dfbe10dfd0e10f1405",
            "24aedf27aec14394a9be65595cd62a72",
            "f5a59b7d1fc948f883cb4f0f11d10ea4",
            "d2cfb34fdb994a77a69c635e72493eb0",
            "ea7dadd4f178465eaf75bba3c8783d7f",
            "7c13ae2527dc44a1956a71e488538ca3",
            "c721229a30384521a3165e93f9984561",
            "2a97d929bce542c8ba0f5de0b0bf042f",
            "43454ed2840d493c97acfab4f0330927",
            "0465b4b054dd43eab066949178ad77ab",
            "b939eb63823647f89059f6dbf960b601",
            "75367419a47f4e1bb01b9421e142e0ba"
          ]
        },
        "id": "0Tadsn7R9vi_",
        "outputId": "b3b2fe24-4df8-4122-e279-a32379380824"
      },
      "outputs": [
        {
          "data": {
            "application/vnd.jupyter.widget-view+json": {
              "model_id": "b7f5c1425aae4f559011ce4e7eb6db6c",
              "version_major": 2,
              "version_minor": 0
            },
            "text/plain": [
              "  0%|          | 0/100 [00:00<?, ?it/s]"
            ]
          },
          "metadata": {},
          "output_type": "display_data"
        },
        {
          "data": {
            "application/vnd.jupyter.widget-view+json": {
              "model_id": "56d0c82b9244494d803d033142d6827b",
              "version_major": 2,
              "version_minor": 0
            },
            "text/plain": [
              "  0%|          | 0/100 [00:00<?, ?it/s]"
            ]
          },
          "metadata": {},
          "output_type": "display_data"
        },
        {
          "data": {
            "application/vnd.jupyter.widget-view+json": {
              "model_id": "5d7156fdf5de40ada8ba991efdbe8ca9",
              "version_major": 2,
              "version_minor": 0
            },
            "text/plain": [
              "  0%|          | 0/100 [00:00<?, ?it/s]"
            ]
          },
          "metadata": {},
          "output_type": "display_data"
        },
        {
          "data": {
            "application/vnd.jupyter.widget-view+json": {
              "model_id": "4cc3ed373d854cf4a67f8d4df6c57dec",
              "version_major": 2,
              "version_minor": 0
            },
            "text/plain": [
              "  0%|          | 0/100 [00:00<?, ?it/s]"
            ]
          },
          "metadata": {},
          "output_type": "display_data"
        },
        {
          "data": {
            "application/vnd.jupyter.widget-view+json": {
              "model_id": "24aedf27aec14394a9be65595cd62a72",
              "version_major": 2,
              "version_minor": 0
            },
            "text/plain": [
              "  0%|          | 0/100 [00:00<?, ?it/s]"
            ]
          },
          "metadata": {},
          "output_type": "display_data"
        }
      ],
      "source": [
        "times_baseline = time_inference(model_baseline.to(device))"
      ]
    },
    {
      "cell_type": "code",
      "execution_count": 202,
      "metadata": {
        "colab": {
          "base_uri": "https://localhost:8080/",
          "height": 177,
          "referenced_widgets": [
            "9ad8f1aab1b849ea9c5d0cc2ad7e1b63",
            "a2561cc453d64f8aa121a1d9ebb80ce6",
            "bb5ac8e3f06f4fa688112b031da606c8",
            "44398463abfc4d5ba5083f048c8be2f3",
            "6c77e9ac4e954b3b970eeb8e6db78f06",
            "c239d75a6f2247998856778be583d77e",
            "d31a3e6499c9436ea335c363bde871b1",
            "a837b1ab1d94459ab0892b7e5ec3b490",
            "e558778d578f440488f36ed5d5f44094",
            "037ea3a7a4c24e6aad824a015ecb92c1",
            "b576f8ce58d7478fb133d5ef08af3f44",
            "c5e6a7c8e69944c2a9e69a6e3babf084",
            "560bb9bee8004e5286226d0add2b106d",
            "6822970f5c3f4403a59ac4e1077ddb6e",
            "cc00fd1059d74ae09dd25d42b79a3907",
            "cffc45e39cf84fc1980829c1f567dec8",
            "cea36b7803bf4036ba36532665f294bd",
            "47adbdd0ae6840c7a6f1d03d82915f5e",
            "e3603bc7d1674bb6a622dd28ac937a4f",
            "903b8d9f1bea4ff8bc0b2a38e1a0d6b0",
            "00f73960227a4ec5be454fb0393e3ffc",
            "cb31d903f2554a9794a2aa198bf70e12",
            "3e816508e4d04bc4836a8621333952b2",
            "63dfd592bbe84042a1a7aba206eb63f4",
            "85c1290592304686b7e93e49a2a2f266",
            "237b8826e0c7482d9b70242ead1cb6ac",
            "966c7eeca61542fd8740d15055aaaa31",
            "6e9efc5d19824b37a34c0ab11f61f8c1",
            "b0943638d969406198a5613c6f3379b5",
            "d3cfd967ab8d4276958b0fe23582e1aa",
            "68af1434bdc64ca182b036fb1c70abc3",
            "247ee29bce574cd68cb9e4dfddcb06d1",
            "ee5af5c174cc49e291facfafd51f04bd",
            "cf0ce1c17197486abd43f016f439c06d",
            "eae629de6ead4a1590287b076dfe91bb",
            "ead45c89a0104d7fafab0daefa9692ce",
            "2abad5e9b6f94caaa648b118e03f37d6",
            "bc71e02c457842dfb0092dd35585bc8b",
            "ea1ad139bc32413a8d601030c2671c5f",
            "ef1f9b6a86c245319f95787d1077c77d",
            "f8f21121f10146edae656998227fe397",
            "d85f3ee153bf4336b29bd18cc5b01590",
            "11b266e735f347679953f7073cb79fab",
            "7619f827e28d4ca4bf4dad3409e6cc22",
            "b2e4c726edce4e99b30511f1ef336c53",
            "d83cf8a6753d4655b72b23731b11f524",
            "dbbc3420425e439ab857f73603d2ef90",
            "ea4b9dc2e178499d82433579e564e29c",
            "b492ee3c1c0747d98b3519985b23a7e9",
            "1c7f7da52ff84626b8d08bdc5eaa9a8e",
            "6dd17c881f02460aaf0cfaf219b7b854",
            "d970ff163b184210a37ce45ad0e3b6d9",
            "257075bdf8a04e21b8214d7f814e1a31",
            "2a7791b9f8e04ee692c951ea9ac3aac4",
            "e1a1a3993cbf46f084245b800ea67207"
          ]
        },
        "id": "D_816wKf9xDS",
        "outputId": "fcbe9b8b-3cb3-4878-a3e9-0dae537fabb8"
      },
      "outputs": [
        {
          "data": {
            "application/vnd.jupyter.widget-view+json": {
              "model_id": "9ad8f1aab1b849ea9c5d0cc2ad7e1b63",
              "version_major": 2,
              "version_minor": 0
            },
            "text/plain": [
              "  0%|          | 0/100 [00:00<?, ?it/s]"
            ]
          },
          "metadata": {},
          "output_type": "display_data"
        },
        {
          "data": {
            "application/vnd.jupyter.widget-view+json": {
              "model_id": "c5e6a7c8e69944c2a9e69a6e3babf084",
              "version_major": 2,
              "version_minor": 0
            },
            "text/plain": [
              "  0%|          | 0/100 [00:00<?, ?it/s]"
            ]
          },
          "metadata": {},
          "output_type": "display_data"
        },
        {
          "data": {
            "application/vnd.jupyter.widget-view+json": {
              "model_id": "3e816508e4d04bc4836a8621333952b2",
              "version_major": 2,
              "version_minor": 0
            },
            "text/plain": [
              "  0%|          | 0/100 [00:00<?, ?it/s]"
            ]
          },
          "metadata": {},
          "output_type": "display_data"
        },
        {
          "data": {
            "application/vnd.jupyter.widget-view+json": {
              "model_id": "cf0ce1c17197486abd43f016f439c06d",
              "version_major": 2,
              "version_minor": 0
            },
            "text/plain": [
              "  0%|          | 0/100 [00:00<?, ?it/s]"
            ]
          },
          "metadata": {},
          "output_type": "display_data"
        },
        {
          "data": {
            "application/vnd.jupyter.widget-view+json": {
              "model_id": "b2e4c726edce4e99b30511f1ef336c53",
              "version_major": 2,
              "version_minor": 0
            },
            "text/plain": [
              "  0%|          | 0/100 [00:00<?, ?it/s]"
            ]
          },
          "metadata": {},
          "output_type": "display_data"
        }
      ],
      "source": [
        "times_sparse = time_inference(model_sparse.to(device))"
      ]
    },
    {
      "cell_type": "code",
      "execution_count": 203,
      "metadata": {
        "id": "0cOK02Os_DYS"
      },
      "outputs": [],
      "source": [
        "batch_sizes = np.asarray([[bs]*100 for bs in [512, 1024, 2048, 4096, 8192]]).ravel()\n",
        "batch_sizes = np.append(batch_sizes, batch_sizes)\n",
        "models = ['baseline']*500 + ['sparse']*500\n",
        "times = np.concatenate([_ for _ in times_baseline] + [_ for _ in times_sparse])"
      ]
    },
    {
      "cell_type": "code",
      "execution_count": 204,
      "metadata": {
        "colab": {
          "base_uri": "https://localhost:8080/",
          "height": 424
        },
        "id": "zXkmCe6L_SST",
        "outputId": "c9225562-ab08-4a6e-ea4e-46d7636de4da"
      },
      "outputs": [
        {
          "data": {
            "text/html": [
              "\n",
              "  <div id=\"df-13907a1f-6146-4aed-bd91-33cf6294e9f4\">\n",
              "    <div class=\"colab-df-container\">\n",
              "      <div>\n",
              "<style scoped>\n",
              "    .dataframe tbody tr th:only-of-type {\n",
              "        vertical-align: middle;\n",
              "    }\n",
              "\n",
              "    .dataframe tbody tr th {\n",
              "        vertical-align: top;\n",
              "    }\n",
              "\n",
              "    .dataframe thead th {\n",
              "        text-align: right;\n",
              "    }\n",
              "</style>\n",
              "<table border=\"1\" class=\"dataframe\">\n",
              "  <thead>\n",
              "    <tr style=\"text-align: right;\">\n",
              "      <th></th>\n",
              "      <th>batch size</th>\n",
              "      <th>model</th>\n",
              "      <th>time</th>\n",
              "    </tr>\n",
              "  </thead>\n",
              "  <tbody>\n",
              "    <tr>\n",
              "      <th>0</th>\n",
              "      <td>512</td>\n",
              "      <td>baseline</td>\n",
              "      <td>0.007754</td>\n",
              "    </tr>\n",
              "    <tr>\n",
              "      <th>1</th>\n",
              "      <td>512</td>\n",
              "      <td>baseline</td>\n",
              "      <td>0.006637</td>\n",
              "    </tr>\n",
              "    <tr>\n",
              "      <th>2</th>\n",
              "      <td>512</td>\n",
              "      <td>baseline</td>\n",
              "      <td>0.005881</td>\n",
              "    </tr>\n",
              "    <tr>\n",
              "      <th>3</th>\n",
              "      <td>512</td>\n",
              "      <td>baseline</td>\n",
              "      <td>0.006922</td>\n",
              "    </tr>\n",
              "    <tr>\n",
              "      <th>4</th>\n",
              "      <td>512</td>\n",
              "      <td>baseline</td>\n",
              "      <td>0.006193</td>\n",
              "    </tr>\n",
              "    <tr>\n",
              "      <th>...</th>\n",
              "      <td>...</td>\n",
              "      <td>...</td>\n",
              "      <td>...</td>\n",
              "    </tr>\n",
              "    <tr>\n",
              "      <th>995</th>\n",
              "      <td>8192</td>\n",
              "      <td>sparse</td>\n",
              "      <td>0.001217</td>\n",
              "    </tr>\n",
              "    <tr>\n",
              "      <th>996</th>\n",
              "      <td>8192</td>\n",
              "      <td>sparse</td>\n",
              "      <td>0.001268</td>\n",
              "    </tr>\n",
              "    <tr>\n",
              "      <th>997</th>\n",
              "      <td>8192</td>\n",
              "      <td>sparse</td>\n",
              "      <td>0.001258</td>\n",
              "    </tr>\n",
              "    <tr>\n",
              "      <th>998</th>\n",
              "      <td>8192</td>\n",
              "      <td>sparse</td>\n",
              "      <td>0.001248</td>\n",
              "    </tr>\n",
              "    <tr>\n",
              "      <th>999</th>\n",
              "      <td>8192</td>\n",
              "      <td>sparse</td>\n",
              "      <td>0.001328</td>\n",
              "    </tr>\n",
              "  </tbody>\n",
              "</table>\n",
              "<p>1000 rows × 3 columns</p>\n",
              "</div>\n",
              "      <button class=\"colab-df-convert\" onclick=\"convertToInteractive('df-13907a1f-6146-4aed-bd91-33cf6294e9f4')\"\n",
              "              title=\"Convert this dataframe to an interactive table.\"\n",
              "              style=\"display:none;\">\n",
              "        \n",
              "  <svg xmlns=\"http://www.w3.org/2000/svg\" height=\"24px\"viewBox=\"0 0 24 24\"\n",
              "       width=\"24px\">\n",
              "    <path d=\"M0 0h24v24H0V0z\" fill=\"none\"/>\n",
              "    <path d=\"M18.56 5.44l.94 2.06.94-2.06 2.06-.94-2.06-.94-.94-2.06-.94 2.06-2.06.94zm-11 1L8.5 8.5l.94-2.06 2.06-.94-2.06-.94L8.5 2.5l-.94 2.06-2.06.94zm10 10l.94 2.06.94-2.06 2.06-.94-2.06-.94-.94-2.06-.94 2.06-2.06.94z\"/><path d=\"M17.41 7.96l-1.37-1.37c-.4-.4-.92-.59-1.43-.59-.52 0-1.04.2-1.43.59L10.3 9.45l-7.72 7.72c-.78.78-.78 2.05 0 2.83L4 21.41c.39.39.9.59 1.41.59.51 0 1.02-.2 1.41-.59l7.78-7.78 2.81-2.81c.8-.78.8-2.07 0-2.86zM5.41 20L4 18.59l7.72-7.72 1.47 1.35L5.41 20z\"/>\n",
              "  </svg>\n",
              "      </button>\n",
              "      \n",
              "  <style>\n",
              "    .colab-df-container {\n",
              "      display:flex;\n",
              "      flex-wrap:wrap;\n",
              "      gap: 12px;\n",
              "    }\n",
              "\n",
              "    .colab-df-convert {\n",
              "      background-color: #E8F0FE;\n",
              "      border: none;\n",
              "      border-radius: 50%;\n",
              "      cursor: pointer;\n",
              "      display: none;\n",
              "      fill: #1967D2;\n",
              "      height: 32px;\n",
              "      padding: 0 0 0 0;\n",
              "      width: 32px;\n",
              "    }\n",
              "\n",
              "    .colab-df-convert:hover {\n",
              "      background-color: #E2EBFA;\n",
              "      box-shadow: 0px 1px 2px rgba(60, 64, 67, 0.3), 0px 1px 3px 1px rgba(60, 64, 67, 0.15);\n",
              "      fill: #174EA6;\n",
              "    }\n",
              "\n",
              "    [theme=dark] .colab-df-convert {\n",
              "      background-color: #3B4455;\n",
              "      fill: #D2E3FC;\n",
              "    }\n",
              "\n",
              "    [theme=dark] .colab-df-convert:hover {\n",
              "      background-color: #434B5C;\n",
              "      box-shadow: 0px 1px 3px 1px rgba(0, 0, 0, 0.15);\n",
              "      filter: drop-shadow(0px 1px 2px rgba(0, 0, 0, 0.3));\n",
              "      fill: #FFFFFF;\n",
              "    }\n",
              "  </style>\n",
              "\n",
              "      <script>\n",
              "        const buttonEl =\n",
              "          document.querySelector('#df-13907a1f-6146-4aed-bd91-33cf6294e9f4 button.colab-df-convert');\n",
              "        buttonEl.style.display =\n",
              "          google.colab.kernel.accessAllowed ? 'block' : 'none';\n",
              "\n",
              "        async function convertToInteractive(key) {\n",
              "          const element = document.querySelector('#df-13907a1f-6146-4aed-bd91-33cf6294e9f4');\n",
              "          const dataTable =\n",
              "            await google.colab.kernel.invokeFunction('convertToInteractive',\n",
              "                                                     [key], {});\n",
              "          if (!dataTable) return;\n",
              "\n",
              "          const docLinkHtml = 'Like what you see? Visit the ' +\n",
              "            '<a target=\"_blank\" href=https://colab.research.google.com/notebooks/data_table.ipynb>data table notebook</a>'\n",
              "            + ' to learn more about interactive tables.';\n",
              "          element.innerHTML = '';\n",
              "          dataTable['output_type'] = 'display_data';\n",
              "          await google.colab.output.renderOutput(dataTable, element);\n",
              "          const docLink = document.createElement('div');\n",
              "          docLink.innerHTML = docLinkHtml;\n",
              "          element.appendChild(docLink);\n",
              "        }\n",
              "      </script>\n",
              "    </div>\n",
              "  </div>\n",
              "  "
            ],
            "text/plain": [
              "     batch size     model      time\n",
              "0           512  baseline  0.007754\n",
              "1           512  baseline  0.006637\n",
              "2           512  baseline  0.005881\n",
              "3           512  baseline  0.006922\n",
              "4           512  baseline  0.006193\n",
              "..          ...       ...       ...\n",
              "995        8192    sparse  0.001217\n",
              "996        8192    sparse  0.001268\n",
              "997        8192    sparse  0.001258\n",
              "998        8192    sparse  0.001248\n",
              "999        8192    sparse  0.001328\n",
              "\n",
              "[1000 rows x 3 columns]"
            ]
          },
          "execution_count": 204,
          "metadata": {},
          "output_type": "execute_result"
        }
      ],
      "source": [
        "import pandas as pd\n",
        "df_times = pd.DataFrame({'batch size': batch_sizes, 'model': models, 'time': times})\n",
        "df_times"
      ]
    },
    {
      "cell_type": "code",
      "execution_count": 205,
      "metadata": {
        "colab": {
          "base_uri": "https://localhost:8080/",
          "height": 678
        },
        "id": "XwQ9yNUv_uZ0",
        "outputId": "dd8deb6c-fb06-4a63-f40a-8afd4e9a4a32"
      },
      "outputs": [
        {
          "data": {
            "image/png": "[encoded data removed]",
            "text/plain": [
              "<Figure size 1440x792 with 1 Axes>"
            ]
          },
          "metadata": {},
          "output_type": "display_data"
        }
      ],
      "source": [
        "plt.figure(figsize=(20,11))\n",
        "sns.violinplot(x='batch size', y='time', hue='model', data=df_times, split=True, \n",
        "               palette=[sns.color_palette('tab10')[0],sns.color_palette('tab10')[2]], scale='width');"
      ]
    },
    {
      "cell_type": "code",
      "execution_count": 232,
      "metadata": {
        "colab": {
          "base_uri": "https://localhost:8080/"
        },
        "id": "_03iubiUBRNL",
        "outputId": "6603965d-de7b-4a00-8e04-8763a1d3fa45"
      },
      "outputs": [
        {
          "name": "stdout",
          "output_type": "stream",
          "text": [
            "Epoch   1   Train loss: 0.152530 Acc: 0.944166   Val loss: 0.672641 Acc: 0.857187\n",
            "Epoch   2   Train loss: 0.135979 Acc: 0.951955   Val loss: 0.655773 Acc: 0.848550\n",
            "Epoch   3   Train loss: 0.126993 Acc: 0.956659   Val loss: 0.685272 Acc: 0.857495\n",
            "Epoch   4   Train loss: 0.126565 Acc: 0.956428   Val loss: 0.700741 Acc: 0.850093\n",
            "Epoch   5   Train loss: 0.122326 Acc: 0.957662   Val loss: 0.703955 Acc: 0.852869\n",
            "Epoch   6   Train loss: 0.108282 Acc: 0.961286   Val loss: 0.690594 Acc: 0.856570\n",
            "Epoch   7   Train loss: 0.104256 Acc: 0.961132   Val loss: 0.699459 Acc: 0.857804\n",
            "Epoch   8   Train loss: 0.108075 Acc: 0.962058   Val loss: 0.714508 Acc: 0.852560\n",
            "Epoch   9   Train loss: 0.100155 Acc: 0.964371   Val loss: 0.715367 Acc: 0.853486\n",
            "Epoch  10   Train loss: 0.102064 Acc: 0.963214   Val loss: 0.731339 Acc: 0.854102\n",
            "Sparse@10% test accuracy: 0.8541024059222702\n",
            "Epoch   1   Train loss: 0.158688 Acc: 0.944783   Val loss: 0.611212 Acc: 0.863048\n",
            "Epoch   2   Train loss: 0.125579 Acc: 0.953497   Val loss: 0.644477 Acc: 0.854411\n",
            "Epoch   3   Train loss: 0.127582 Acc: 0.954577   Val loss: 0.656113 Acc: 0.851635\n",
            "Epoch   4   Train loss: 0.124161 Acc: 0.954808   Val loss: 0.650542 Acc: 0.851943\n",
            "Epoch   5   Train loss: 0.120356 Acc: 0.956968   Val loss: 0.674879 Acc: 0.851326\n",
            "Epoch   6   Train loss: 0.114843 Acc: 0.959513   Val loss: 0.681738 Acc: 0.854719\n",
            "Epoch   7   Train loss: 0.102519 Acc: 0.963214   Val loss: 0.665455 Acc: 0.857495\n",
            "Epoch   8   Train loss: 0.103581 Acc: 0.963214   Val loss: 0.672201 Acc: 0.849167\n",
            "Epoch   9   Train loss: 0.103210 Acc: 0.962983   Val loss: 0.699522 Acc: 0.855953\n",
            "Epoch  10   Train loss: 0.099418 Acc: 0.963060   Val loss: 0.695707 Acc: 0.854411\n",
            "Sparse@30% test accuracy: 0.8544108574953733\n",
            "Epoch   1   Train loss: 0.234990 Acc: 0.918408   Val loss: 0.619893 Acc: 0.849784\n",
            "Epoch   2   Train loss: 0.178308 Acc: 0.939307   Val loss: 0.606189 Acc: 0.853794\n",
            "Epoch   3   Train loss: 0.151943 Acc: 0.943472   Val loss: 0.623646 Acc: 0.855953\n",
            "Epoch   4   Train loss: 0.142287 Acc: 0.949950   Val loss: 0.625406 Acc: 0.853794\n",
            "Epoch   5   Train loss: 0.130667 Acc: 0.954346   Val loss: 0.625747 Acc: 0.857187\n",
            "Epoch   6   Train loss: 0.125988 Acc: 0.955580   Val loss: 0.639624 Acc: 0.852560\n",
            "Epoch   7   Train loss: 0.124359 Acc: 0.955271   Val loss: 0.645110 Acc: 0.853794\n",
            "Epoch   8   Train loss: 0.119230 Acc: 0.956813   Val loss: 0.646242 Acc: 0.858421\n",
            "Epoch   9   Train loss: 0.115471 Acc: 0.957816   Val loss: 0.656891 Acc: 0.859346\n",
            "Epoch  10   Train loss: 0.110860 Acc: 0.960207   Val loss: 0.666068 Acc: 0.852252\n",
            "Sparse@50% test accuracy: 0.8522516964836521\n",
            "Epoch   1   Train loss: 0.623606 Acc: 0.798488   Val loss: 0.649224 Acc: 0.821715\n",
            "Epoch   2   Train loss: 0.383056 Acc: 0.867587   Val loss: 0.606078 Acc: 0.835287\n",
            "Epoch   3   Train loss: 0.325847 Acc: 0.888332   Val loss: 0.595128 Acc: 0.836212\n",
            "Epoch   4   Train loss: 0.299398 Acc: 0.898820   Val loss: 0.589514 Acc: 0.835287\n",
            "Epoch   5   Train loss: 0.271347 Acc: 0.904604   Val loss: 0.577722 Acc: 0.842073\n",
            "Epoch   6   Train loss: 0.254756 Acc: 0.910851   Val loss: 0.584364 Acc: 0.845157\n",
            "Epoch   7   Train loss: 0.246681 Acc: 0.910542   Val loss: 0.583434 Acc: 0.844232\n",
            "Epoch   8   Train loss: 0.230305 Acc: 0.920645   Val loss: 0.590319 Acc: 0.845466\n",
            "Epoch   9   Train loss: 0.229719 Acc: 0.920259   Val loss: 0.596311 Acc: 0.844849\n",
            "Epoch  10   Train loss: 0.220358 Acc: 0.923035   Val loss: 0.586590 Acc: 0.850093\n",
            "Sparse@70% test accuracy: 0.8500925354719309\n",
            "Epoch   1   Train loss: 1.894786 Acc: 0.394232   Val loss: 1.123563 Acc: 0.633868\n",
            "Epoch   2   Train loss: 1.169493 Acc: 0.607002   Val loss: 0.950579 Acc: 0.687847\n",
            "Epoch   3   Train loss: 0.977526 Acc: 0.674790   Val loss: 0.833125 Acc: 0.730722\n",
            "Epoch   4   Train loss: 0.887687 Acc: 0.705483   Val loss: 0.793217 Acc: 0.740284\n",
            "Epoch   5   Train loss: 0.840146 Acc: 0.725843   Val loss: 0.752164 Acc: 0.757249\n",
            "Epoch   6   Train loss: 0.795438 Acc: 0.739338   Val loss: 0.748542 Acc: 0.756940\n",
            "Epoch   7   Train loss: 0.761489 Acc: 0.750289   Val loss: 0.704022 Acc: 0.770820\n",
            "Epoch   8   Train loss: 0.724675 Acc: 0.757307   Val loss: 0.700318 Acc: 0.782542\n",
            "Epoch   9   Train loss: 0.714084 Acc: 0.764710   Val loss: 0.696669 Acc: 0.776681\n",
            "Epoch  10   Train loss: 0.705521 Acc: 0.769338   Val loss: 0.676393 Acc: 0.786243\n",
            "Sparse@90% test accuracy: 0.7862430598396052\n"
          ]
        }
      ],
      "source": [
        "device = 'cuda'\n",
        "histories = []\n",
        "\n",
        "for i in range(1, 10, 2):\n",
        "    model_sparse = torch.load('model_baseline.pt').to(device)\n",
        "    for layer in model_sparse.model:\n",
        "        if isinstance(layer, torch.nn.Conv2d):\n",
        "            prune.l1_unstructured(layer, name='weight', amount=0.1 * i)\n",
        "\n",
        "        if isinstance(layer, torch.nn.Linear):\n",
        "            prune.l1_unstructured(layer, name='weight', amount=0.1 * i)\n",
        "    history_sparse = train_model(model_sparse, 10)\n",
        "    histories.append(history_sparse)\n",
        "    for layer in model_sparse.model:\n",
        "        if isinstance(layer, torch.nn.Conv2d):\n",
        "            prune.remove(layer, 'weight')\n",
        "\n",
        "        if isinstance(layer, torch.nn.Linear):\n",
        "            prune.remove(layer, 'weight')\n",
        "    evaluate_model(model_sparse, f'Sparse@{10*i}%')\n"
      ]
    },
    {
      "cell_type": "code",
      "execution_count": 230,
      "metadata": {
        "colab": {
          "base_uri": "https://localhost:8080/",
          "height": 456
        },
        "id": "CbSKvO74EV8h",
        "outputId": "0bc3fa95-c394-48ac-90ae-601be3c8f083"
      },
      "outputs": [
        {
          "data": {
            "text/plain": [
              "<matplotlib.legend.Legend at 0x7f05064cec50>"
            ]
          },
          "execution_count": 230,
          "metadata": {},
          "output_type": "execute_result"
        },
        {
          "data": {
            "image/png": "[encoded data removed]",
            "text/plain": [
              "<Figure size 1008x504 with 1 Axes>"
            ]
          },
          "metadata": {},
          "output_type": "display_data"
        }
      ],
      "source": [
        "plt.figure(figsize=(14, 7))\n",
        "plt.plot(history_baseline['val_accuracy'], label='baseline')\n",
        "for i, history in enumerate(histories):\n",
        "    plt.plot(history['val_accuracy'], label=f'Sparse@{(i*2+1)*10}%')\n",
        "\n",
        "plt.legend()"
      ]
    },
    {
      "cell_type": "markdown",
      "metadata": {
        "id": "SV0ncGnyvIRO"
      },
      "source": [
        "# Wyślij rozwiązanie\n",
        "Możesz skorzystać z jednego z poniższych sposobów:\n",
        "**mailem na specjalny adres** ze strony pracy domowej w panelu programu prześlij jedno z poniższych:\n",
        "- notebooka (jeżeli plik ma mniej niż np. 10MB)\n",
        "- notebooka w zipie\n",
        "- link do Colaba (udostępniony)\n",
        "- link do pliku przez GDrive/Dropboxa/WeTransfer/...\n",
        "- pdfa (poprzez download as pdf)\n",
        "- jako plik w repozytorium na np. GitHubie, by budować swoje portfolio (wtedy uważaj na wielkość pliku, najlepiej kilka MB, Max 25MB)\n",
        "\n",
        "Najlepiej, by w notebooku było widać wyniki uruchomienia komórek, chyba, że przez nie plik będzie mieć 100+MB wtedy najlepiej Colab lub jakieś przemyślenie co poszło nie tak (zbyt dużo dużych zdjęć wyświetlonych w komórkach).\n",
        "\n",
        "## Co otrzymasz?\n",
        "Informację zwrotną z ewentualnymi sugestiami, komentarzami."
      ]
    }
  ],
  "metadata": {
    "accelerator": "GPU",
    "colab": {
      "name": "11-Praca-domowa-optymalizacja.ipynb",
      "provenance": []
    },
    "kernelspec": {
      "display_name": "Python 3 (ipykernel)",
      "language": "python",
      "name": "python3"
    },
    "language_info": {
      "codemirror_mode": {
        "name": "ipython",
        "version": 3
      },
      "file_extension": ".py",
      "mimetype": "text/x-python",
      "name": "python",
      "nbconvert_exporter": "python",
      "pygments_lexer": "ipython3",
      "version": "3.7.8"
    },
    "widgets": {
      "application/vnd.jupyter.widget-state+json": {
        "00f729ccec4a47eabfd1f3f3e9ea7eef": {
          "model_module": "@jupyter-widgets/controls",
          "model_module_version": "1.5.0",
          "model_name": "HTMLModel",
          "state": {
            "_dom_classes": [],
            "_model_module": "@jupyter-widgets/controls",
            "_model_module_version": "1.5.0",
            "_model_name": "HTMLModel",
            "_view_count": null,
            "_view_module": "@jupyter-widgets/controls",
            "_view_module_version": "1.5.0",
            "_view_name": "HTMLView",
            "description": "",
            "description_tooltip": null,
            "layout": "IPY_MODEL_d974c08f80aa49c0984d01ee4f13c142",
            "placeholder": "​",
            "style": "IPY_MODEL_46558571462b42149744224d2c49345d",
            "value": "100%"
          }
        },
        "00f73960227a4ec5be454fb0393e3ffc": {
          "model_module": "@jupyter-widgets/base",
          "model_module_version": "1.2.0",
          "model_name": "LayoutModel",
          "state": {
            "_model_module": "@jupyter-widgets/base",
            "_model_module_version": "1.2.0",
            "_model_name": "LayoutModel",
            "_view_count": null,
            "_view_module": "@jupyter-widgets/base",
            "_view_module_version": "1.2.0",
            "_view_name": "LayoutView",
            "align_content": null,
            "align_items": null,
            "align_self": null,
            "border": null,
            "bottom": null,
            "display": null,
            "flex": null,
            "flex_flow": null,
            "grid_area": null,
            "grid_auto_columns": null,
            "grid_auto_flow": null,
            "grid_auto_rows": null,
            "grid_column": null,
            "grid_gap": null,
            "grid_row": null,
            "grid_template_areas": null,
            "grid_template_columns": null,
            "grid_template_rows": null,
            "height": null,
            "justify_content": null,
            "justify_items": null,
            "left": null,
            "margin": null,
            "max_height": null,
            "max_width": null,
            "min_height": null,
            "min_width": null,
            "object_fit": null,
            "object_position": null,
            "order": null,
            "overflow": null,
            "overflow_x": null,
            "overflow_y": null,
            "padding": null,
            "right": null,
            "top": null,
            "visibility": null,
            "width": null
          }
        },
        "037ea3a7a4c24e6aad824a015ecb92c1": {
          "model_module": "@jupyter-widgets/base",
          "model_module_version": "1.2.0",
          "model_name": "LayoutModel",
          "state": {
            "_model_module": "@jupyter-widgets/base",
            "_model_module_version": "1.2.0",
            "_model_name": "LayoutModel",
            "_view_count": null,
            "_view_module": "@jupyter-widgets/base",
            "_view_module_version": "1.2.0",
            "_view_name": "LayoutView",
            "align_content": null,
            "align_items": null,
            "align_self": null,
            "border": null,
            "bottom": null,
            "display": null,
            "flex": null,
            "flex_flow": null,
            "grid_area": null,
            "grid_auto_columns": null,
            "grid_auto_flow": null,
            "grid_auto_rows": null,
            "grid_column": null,
            "grid_gap": null,
            "grid_row": null,
            "grid_template_areas": null,
            "grid_template_columns": null,
            "grid_template_rows": null,
            "height": null,
            "justify_content": null,
            "justify_items": null,
            "left": null,
            "margin": null,
            "max_height": null,
            "max_width": null,
            "min_height": null,
            "min_width": null,
            "object_fit": null,
            "object_position": null,
            "order": null,
            "overflow": null,
            "overflow_x": null,
            "overflow_y": null,
            "padding": null,
            "right": null,
            "top": null,
            "visibility": null,
            "width": null
          }
        },
        "0465b4b054dd43eab066949178ad77ab": {
          "model_module": "@jupyter-widgets/controls",
          "model_module_version": "1.5.0",
          "model_name": "ProgressStyleModel",
          "state": {
            "_model_module": "@jupyter-widgets/controls",
            "_model_module_version": "1.5.0",
            "_model_name": "ProgressStyleModel",
            "_view_count": null,
            "_view_module": "@jupyter-widgets/base",
            "_view_module_version": "1.2.0",
            "_view_name": "StyleView",
            "bar_color": null,
            "description_width": ""
          }
        },
        "072ce0403cf2445787c049baf346b1a7": {
          "model_module": "@jupyter-widgets/controls",
          "model_module_version": "1.5.0",
          "model_name": "HTMLModel",
          "state": {
            "_dom_classes": [],
            "_model_module": "@jupyter-widgets/controls",
            "_model_module_version": "1.5.0",
            "_model_name": "HTMLModel",
            "_view_count": null,
            "_view_module": "@jupyter-widgets/controls",
            "_view_module_version": "1.5.0",
            "_view_name": "HTMLView",
            "description": "",
            "description_tooltip": null,
            "layout": "IPY_MODEL_24fd0066157f47eb970f48ce873fed4f",
            "placeholder": "​",
            "style": "IPY_MODEL_c651a7633fa04541a448c654205bb213",
            "value": "100%"
          }
        },
        "089529ceeaa14f188c196c3a66b22c4e": {
          "model_module": "@jupyter-widgets/controls",
          "model_module_version": "1.5.0",
          "model_name": "ProgressStyleModel",
          "state": {
            "_model_module": "@jupyter-widgets/controls",
            "_model_module_version": "1.5.0",
            "_model_name": "ProgressStyleModel",
            "_view_count": null,
            "_view_module": "@jupyter-widgets/base",
            "_view_module_version": "1.2.0",
            "_view_name": "StyleView",
            "bar_color": null,
            "description_width": ""
          }
        },
        "098a4a6bd662452892d4f2d17ccc1933": {
          "model_module": "@jupyter-widgets/base",
          "model_module_version": "1.2.0",
          "model_name": "LayoutModel",
          "state": {
            "_model_module": "@jupyter-widgets/base",
            "_model_module_version": "1.2.0",
            "_model_name": "LayoutModel",
            "_view_count": null,
            "_view_module": "@jupyter-widgets/base",
            "_view_module_version": "1.2.0",
            "_view_name": "LayoutView",
            "align_content": null,
            "align_items": null,
            "align_self": null,
            "border": null,
            "bottom": null,
            "display": null,
            "flex": null,
            "flex_flow": null,
            "grid_area": null,
            "grid_auto_columns": null,
            "grid_auto_flow": null,
            "grid_auto_rows": null,
            "grid_column": null,
            "grid_gap": null,
            "grid_row": null,
            "grid_template_areas": null,
            "grid_template_columns": null,
            "grid_template_rows": null,
            "height": null,
            "justify_content": null,
            "justify_items": null,
            "left": null,
            "margin": null,
            "max_height": null,
            "max_width": null,
            "min_height": null,
            "min_width": null,
            "object_fit": null,
            "object_position": null,
            "order": null,
            "overflow": null,
            "overflow_x": null,
            "overflow_y": null,
            "padding": null,
            "right": null,
            "top": null,
            "visibility": null,
            "width": null
          }
        },
        "1107637f418c4d6fa8f1ef89b0be7ff0": {
          "model_module": "@jupyter-widgets/base",
          "model_module_version": "1.2.0",
          "model_name": "LayoutModel",
          "state": {
            "_model_module": "@jupyter-widgets/base",
            "_model_module_version": "1.2.0",
            "_model_name": "LayoutModel",
            "_view_count": null,
            "_view_module": "@jupyter-widgets/base",
            "_view_module_version": "1.2.0",
            "_view_name": "LayoutView",
            "align_content": null,
            "align_items": null,
            "align_self": null,
            "border": null,
            "bottom": null,
            "display": null,
            "flex": null,
            "flex_flow": null,
            "grid_area": null,
            "grid_auto_columns": null,
            "grid_auto_flow": null,
            "grid_auto_rows": null,
            "grid_column": null,
            "grid_gap": null,
            "grid_row": null,
            "grid_template_areas": null,
            "grid_template_columns": null,
            "grid_template_rows": null,
            "height": null,
            "justify_content": null,
            "justify_items": null,
            "left": null,
            "margin": null,
            "max_height": null,
            "max_width": null,
            "min_height": null,
            "min_width": null,
            "object_fit": null,
            "object_position": null,
            "order": null,
            "overflow": null,
            "overflow_x": null,
            "overflow_y": null,
            "padding": null,
            "right": null,
            "top": null,
            "visibility": null,
            "width": null
          }
        },
        "11b266e735f347679953f7073cb79fab": {
          "model_module": "@jupyter-widgets/base",
          "model_module_version": "1.2.0",
          "model_name": "LayoutModel",
          "state": {
            "_model_module": "@jupyter-widgets/base",
            "_model_module_version": "1.2.0",
            "_model_name": "LayoutModel",
            "_view_count": null,
            "_view_module": "@jupyter-widgets/base",
            "_view_module_version": "1.2.0",
            "_view_name": "LayoutView",
            "align_content": null,
            "align_items": null,
            "align_self": null,
            "border": null,
            "bottom": null,
            "display": null,
            "flex": null,
            "flex_flow": null,
            "grid_area": null,
            "grid_auto_columns": null,
            "grid_auto_flow": null,
            "grid_auto_rows": null,
            "grid_column": null,
            "grid_gap": null,
            "grid_row": null,
            "grid_template_areas": null,
            "grid_template_columns": null,
            "grid_template_rows": null,
            "height": null,
            "justify_content": null,
            "justify_items": null,
            "left": null,
            "margin": null,
            "max_height": null,
            "max_width": null,
            "min_height": null,
            "min_width": null,
            "object_fit": null,
            "object_position": null,
            "order": null,
            "overflow": null,
            "overflow_x": null,
            "overflow_y": null,
            "padding": null,
            "right": null,
            "top": null,
            "visibility": null,
            "width": null
          }
        },
        "1c7f7da52ff84626b8d08bdc5eaa9a8e": {
          "model_module": "@jupyter-widgets/base",
          "model_module_version": "1.2.0",
          "model_name": "LayoutModel",
          "state": {
            "_model_module": "@jupyter-widgets/base",
            "_model_module_version": "1.2.0",
            "_model_name": "LayoutModel",
            "_view_count": null,
            "_view_module": "@jupyter-widgets/base",
            "_view_module_version": "1.2.0",
            "_view_name": "LayoutView",
            "align_content": null,
            "align_items": null,
            "align_self": null,
            "border": null,
            "bottom": null,
            "display": null,
            "flex": null,
            "flex_flow": null,
            "grid_area": null,
            "grid_auto_columns": null,
            "grid_auto_flow": null,
            "grid_auto_rows": null,
            "grid_column": null,
            "grid_gap": null,
            "grid_row": null,
            "grid_template_areas": null,
            "grid_template_columns": null,
            "grid_template_rows": null,
            "height": null,
            "justify_content": null,
            "justify_items": null,
            "left": null,
            "margin": null,
            "max_height": null,
            "max_width": null,
            "min_height": null,
            "min_width": null,
            "object_fit": null,
            "object_position": null,
            "order": null,
            "overflow": null,
            "overflow_x": null,
            "overflow_y": null,
            "padding": null,
            "right": null,
            "top": null,
            "visibility": null,
            "width": null
          }
        },
        "237b8826e0c7482d9b70242ead1cb6ac": {
          "model_module": "@jupyter-widgets/controls",
          "model_module_version": "1.5.0",
          "model_name": "HTMLModel",
          "state": {
            "_dom_classes": [],
            "_model_module": "@jupyter-widgets/controls",
            "_model_module_version": "1.5.0",
            "_model_name": "HTMLModel",
            "_view_count": null,
            "_view_module": "@jupyter-widgets/controls",
            "_view_module_version": "1.5.0",
            "_view_name": "HTMLView",
            "description": "",
            "description_tooltip": null,
            "layout": "IPY_MODEL_247ee29bce574cd68cb9e4dfddcb06d1",
            "placeholder": "​",
            "style": "IPY_MODEL_ee5af5c174cc49e291facfafd51f04bd",
            "value": " 100/100 [00:04&lt;00:00, 22.90it/s]"
          }
        },
        "247ee29bce574cd68cb9e4dfddcb06d1": {
          "model_module": "@jupyter-widgets/base",
          "model_module_version": "1.2.0",
          "model_name": "LayoutModel",
          "state": {
            "_model_module": "@jupyter-widgets/base",
            "_model_module_version": "1.2.0",
            "_model_name": "LayoutModel",
            "_view_count": null,
            "_view_module": "@jupyter-widgets/base",
            "_view_module_version": "1.2.0",
            "_view_name": "LayoutView",
            "align_content": null,
            "align_items": null,
            "align_self": null,
            "border": null,
            "bottom": null,
            "display": null,
            "flex": null,
            "flex_flow": null,
            "grid_area": null,
            "grid_auto_columns": null,
            "grid_auto_flow": null,
            "grid_auto_rows": null,
            "grid_column": null,
            "grid_gap": null,
            "grid_row": null,
            "grid_template_areas": null,
            "grid_template_columns": null,
            "grid_template_rows": null,
            "height": null,
            "justify_content": null,
            "justify_items": null,
            "left": null,
            "margin": null,
            "max_height": null,
            "max_width": null,
            "min_height": null,
            "min_width": null,
            "object_fit": null,
            "object_position": null,
            "order": null,
            "overflow": null,
            "overflow_x": null,
            "overflow_y": null,
            "padding": null,
            "right": null,
            "top": null,
            "visibility": null,
            "width": null
          }
        },
        "24aedf27aec14394a9be65595cd62a72": {
          "model_module": "@jupyter-widgets/controls",
          "model_module_version": "1.5.0",
          "model_name": "HBoxModel",
          "state": {
            "_dom_classes": [],
            "_model_module": "@jupyter-widgets/controls",
            "_model_module_version": "1.5.0",
            "_model_name": "HBoxModel",
            "_view_count": null,
            "_view_module": "@jupyter-widgets/controls",
            "_view_module_version": "1.5.0",
            "_view_name": "HBoxView",
            "box_style": "",
            "children": [
              "IPY_MODEL_f5a59b7d1fc948f883cb4f0f11d10ea4",
              "IPY_MODEL_d2cfb34fdb994a77a69c635e72493eb0",
              "IPY_MODEL_ea7dadd4f178465eaf75bba3c8783d7f"
            ],
            "layout": "IPY_MODEL_7c13ae2527dc44a1956a71e488538ca3"
          }
        },
        "24fd0066157f47eb970f48ce873fed4f": {
          "model_module": "@jupyter-widgets/base",
          "model_module_version": "1.2.0",
          "model_name": "LayoutModel",
          "state": {
            "_model_module": "@jupyter-widgets/base",
            "_model_module_version": "1.2.0",
            "_model_name": "LayoutModel",
            "_view_count": null,
            "_view_module": "@jupyter-widgets/base",
            "_view_module_version": "1.2.0",
            "_view_name": "LayoutView",
            "align_content": null,
            "align_items": null,
            "align_self": null,
            "border": null,
            "bottom": null,
            "display": null,
            "flex": null,
            "flex_flow": null,
            "grid_area": null,
            "grid_auto_columns": null,
            "grid_auto_flow": null,
            "grid_auto_rows": null,
            "grid_column": null,
            "grid_gap": null,
            "grid_row": null,
            "grid_template_areas": null,
            "grid_template_columns": null,
            "grid_template_rows": null,
            "height": null,
            "justify_content": null,
            "justify_items": null,
            "left": null,
            "margin": null,
            "max_height": null,
            "max_width": null,
            "min_height": null,
            "min_width": null,
            "object_fit": null,
            "object_position": null,
            "order": null,
            "overflow": null,
            "overflow_x": null,
            "overflow_y": null,
            "padding": null,
            "right": null,
            "top": null,
            "visibility": null,
            "width": null
          }
        },
        "257075bdf8a04e21b8214d7f814e1a31": {
          "model_module": "@jupyter-widgets/controls",
          "model_module_version": "1.5.0",
          "model_name": "ProgressStyleModel",
          "state": {
            "_model_module": "@jupyter-widgets/controls",
            "_model_module_version": "1.5.0",
            "_model_name": "ProgressStyleModel",
            "_view_count": null,
            "_view_module": "@jupyter-widgets/base",
            "_view_module_version": "1.2.0",
            "_view_name": "StyleView",
            "bar_color": null,
            "description_width": ""
          }
        },
        "2733475c1ee74747850d00282a8c938a": {
          "model_module": "@jupyter-widgets/controls",
          "model_module_version": "1.5.0",
          "model_name": "FloatProgressModel",
          "state": {
            "_dom_classes": [],
            "_model_module": "@jupyter-widgets/controls",
            "_model_module_version": "1.5.0",
            "_model_name": "FloatProgressModel",
            "_view_count": null,
            "_view_module": "@jupyter-widgets/controls",
            "_view_module_version": "1.5.0",
            "_view_name": "ProgressView",
            "bar_style": "success",
            "description": "",
            "description_tooltip": null,
            "layout": "IPY_MODEL_e6d0a2968dbb4d37b7287f012973e3f5",
            "max": 100,
            "min": 0,
            "orientation": "horizontal",
            "style": "IPY_MODEL_2b70680fdbb44ff49f9a69a1f891b65d",
            "value": 100
          }
        },
        "2a7791b9f8e04ee692c951ea9ac3aac4": {
          "model_module": "@jupyter-widgets/base",
          "model_module_version": "1.2.0",
          "model_name": "LayoutModel",
          "state": {
            "_model_module": "@jupyter-widgets/base",
            "_model_module_version": "1.2.0",
            "_model_name": "LayoutModel",
            "_view_count": null,
            "_view_module": "@jupyter-widgets/base",
            "_view_module_version": "1.2.0",
            "_view_name": "LayoutView",
            "align_content": null,
            "align_items": null,
            "align_self": null,
            "border": null,
            "bottom": null,
            "display": null,
            "flex": null,
            "flex_flow": null,
            "grid_area": null,
            "grid_auto_columns": null,
            "grid_auto_flow": null,
            "grid_auto_rows": null,
            "grid_column": null,
            "grid_gap": null,
            "grid_row": null,
            "grid_template_areas": null,
            "grid_template_columns": null,
            "grid_template_rows": null,
            "height": null,
            "justify_content": null,
            "justify_items": null,
            "left": null,
            "margin": null,
            "max_height": null,
            "max_width": null,
            "min_height": null,
            "min_width": null,
            "object_fit": null,
            "object_position": null,
            "order": null,
            "overflow": null,
            "overflow_x": null,
            "overflow_y": null,
            "padding": null,
            "right": null,
            "top": null,
            "visibility": null,
            "width": null
          }
        },
        "2a97d929bce542c8ba0f5de0b0bf042f": {
          "model_module": "@jupyter-widgets/controls",
          "model_module_version": "1.5.0",
          "model_name": "DescriptionStyleModel",
          "state": {
            "_model_module": "@jupyter-widgets/controls",
            "_model_module_version": "1.5.0",
            "_model_name": "DescriptionStyleModel",
            "_view_count": null,
            "_view_module": "@jupyter-widgets/base",
            "_view_module_version": "1.2.0",
            "_view_name": "StyleView",
            "description_width": ""
          }
        },
        "2abad5e9b6f94caaa648b118e03f37d6": {
          "model_module": "@jupyter-widgets/controls",
          "model_module_version": "1.5.0",
          "model_name": "HTMLModel",
          "state": {
            "_dom_classes": [],
            "_model_module": "@jupyter-widgets/controls",
            "_model_module_version": "1.5.0",
            "_model_name": "HTMLModel",
            "_view_count": null,
            "_view_module": "@jupyter-widgets/controls",
            "_view_module_version": "1.5.0",
            "_view_name": "HTMLView",
            "description": "",
            "description_tooltip": null,
            "layout": "IPY_MODEL_11b266e735f347679953f7073cb79fab",
            "placeholder": "​",
            "style": "IPY_MODEL_7619f827e28d4ca4bf4dad3409e6cc22",
            "value": " 100/100 [00:04&lt;00:00, 19.92it/s]"
          }
        },
        "2b70680fdbb44ff49f9a69a1f891b65d": {
          "model_module": "@jupyter-widgets/controls",
          "model_module_version": "1.5.0",
          "model_name": "ProgressStyleModel",
          "state": {
            "_model_module": "@jupyter-widgets/controls",
            "_model_module_version": "1.5.0",
            "_model_name": "ProgressStyleModel",
            "_view_count": null,
            "_view_module": "@jupyter-widgets/base",
            "_view_module_version": "1.2.0",
            "_view_name": "StyleView",
            "bar_color": null,
            "description_width": ""
          }
        },
        "351412a6ddec4ff991dd11d0894c2383": {
          "model_module": "@jupyter-widgets/controls",
          "model_module_version": "1.5.0",
          "model_name": "DescriptionStyleModel",
          "state": {
            "_model_module": "@jupyter-widgets/controls",
            "_model_module_version": "1.5.0",
            "_model_name": "DescriptionStyleModel",
            "_view_count": null,
            "_view_module": "@jupyter-widgets/base",
            "_view_module_version": "1.2.0",
            "_view_name": "StyleView",
            "description_width": ""
          }
        },
        "35b22ccbdd7d492f873ff0605ace3b79": {
          "model_module": "@jupyter-widgets/base",
          "model_module_version": "1.2.0",
          "model_name": "LayoutModel",
          "state": {
            "_model_module": "@jupyter-widgets/base",
            "_model_module_version": "1.2.0",
            "_model_name": "LayoutModel",
            "_view_count": null,
            "_view_module": "@jupyter-widgets/base",
            "_view_module_version": "1.2.0",
            "_view_name": "LayoutView",
            "align_content": null,
            "align_items": null,
            "align_self": null,
            "border": null,
            "bottom": null,
            "display": null,
            "flex": null,
            "flex_flow": null,
            "grid_area": null,
            "grid_auto_columns": null,
            "grid_auto_flow": null,
            "grid_auto_rows": null,
            "grid_column": null,
            "grid_gap": null,
            "grid_row": null,
            "grid_template_areas": null,
            "grid_template_columns": null,
            "grid_template_rows": null,
            "height": null,
            "justify_content": null,
            "justify_items": null,
            "left": null,
            "margin": null,
            "max_height": null,
            "max_width": null,
            "min_height": null,
            "min_width": null,
            "object_fit": null,
            "object_position": null,
            "order": null,
            "overflow": null,
            "overflow_x": null,
            "overflow_y": null,
            "padding": null,
            "right": null,
            "top": null,
            "visibility": null,
            "width": null
          }
        },
        "3870479b81084e05bc115977c2123e72": {
          "model_module": "@jupyter-widgets/controls",
          "model_module_version": "1.5.0",
          "model_name": "HTMLModel",
          "state": {
            "_dom_classes": [],
            "_model_module": "@jupyter-widgets/controls",
            "_model_module_version": "1.5.0",
            "_model_name": "HTMLModel",
            "_view_count": null,
            "_view_module": "@jupyter-widgets/controls",
            "_view_module_version": "1.5.0",
            "_view_name": "HTMLView",
            "description": "",
            "description_tooltip": null,
            "layout": "IPY_MODEL_f67156c3cb3241ddb3b68b1a047e9f54",
            "placeholder": "​",
            "style": "IPY_MODEL_f9580b67f644402b83bdfebd23b39ed4",
            "value": "100%"
          }
        },
        "3d139af3a1624f20babf1b8c1a09c7ab": {
          "model_module": "@jupyter-widgets/base",
          "model_module_version": "1.2.0",
          "model_name": "LayoutModel",
          "state": {
            "_model_module": "@jupyter-widgets/base",
            "_model_module_version": "1.2.0",
            "_model_name": "LayoutModel",
            "_view_count": null,
            "_view_module": "@jupyter-widgets/base",
            "_view_module_version": "1.2.0",
            "_view_name": "LayoutView",
            "align_content": null,
            "align_items": null,
            "align_self": null,
            "border": null,
            "bottom": null,
            "display": null,
            "flex": null,
            "flex_flow": null,
            "grid_area": null,
            "grid_auto_columns": null,
            "grid_auto_flow": null,
            "grid_auto_rows": null,
            "grid_column": null,
            "grid_gap": null,
            "grid_row": null,
            "grid_template_areas": null,
            "grid_template_columns": null,
            "grid_template_rows": null,
            "height": null,
            "justify_content": null,
            "justify_items": null,
            "left": null,
            "margin": null,
            "max_height": null,
            "max_width": null,
            "min_height": null,
            "min_width": null,
            "object_fit": null,
            "object_position": null,
            "order": null,
            "overflow": null,
            "overflow_x": null,
            "overflow_y": null,
            "padding": null,
            "right": null,
            "top": null,
            "visibility": null,
            "width": null
          }
        },
        "3e816508e4d04bc4836a8621333952b2": {
          "model_module": "@jupyter-widgets/controls",
          "model_module_version": "1.5.0",
          "model_name": "HBoxModel",
          "state": {
            "_dom_classes": [],
            "_model_module": "@jupyter-widgets/controls",
            "_model_module_version": "1.5.0",
            "_model_name": "HBoxModel",
            "_view_count": null,
            "_view_module": "@jupyter-widgets/controls",
            "_view_module_version": "1.5.0",
            "_view_name": "HBoxView",
            "box_style": "",
            "children": [
              "IPY_MODEL_63dfd592bbe84042a1a7aba206eb63f4",
              "IPY_MODEL_85c1290592304686b7e93e49a2a2f266",
              "IPY_MODEL_237b8826e0c7482d9b70242ead1cb6ac"
            ],
            "layout": "IPY_MODEL_966c7eeca61542fd8740d15055aaaa31"
          }
        },
        "43454ed2840d493c97acfab4f0330927": {
          "model_module": "@jupyter-widgets/base",
          "model_module_version": "1.2.0",
          "model_name": "LayoutModel",
          "state": {
            "_model_module": "@jupyter-widgets/base",
            "_model_module_version": "1.2.0",
            "_model_name": "LayoutModel",
            "_view_count": null,
            "_view_module": "@jupyter-widgets/base",
            "_view_module_version": "1.2.0",
            "_view_name": "LayoutView",
            "align_content": null,
            "align_items": null,
            "align_self": null,
            "border": null,
            "bottom": null,
            "display": null,
            "flex": null,
            "flex_flow": null,
            "grid_area": null,
            "grid_auto_columns": null,
            "grid_auto_flow": null,
            "grid_auto_rows": null,
            "grid_column": null,
            "grid_gap": null,
            "grid_row": null,
            "grid_template_areas": null,
            "grid_template_columns": null,
            "grid_template_rows": null,
            "height": null,
            "justify_content": null,
            "justify_items": null,
            "left": null,
            "margin": null,
            "max_height": null,
            "max_width": null,
            "min_height": null,
            "min_width": null,
            "object_fit": null,
            "object_position": null,
            "order": null,
            "overflow": null,
            "overflow_x": null,
            "overflow_y": null,
            "padding": null,
            "right": null,
            "top": null,
            "visibility": null,
            "width": null
          }
        },
        "44398463abfc4d5ba5083f048c8be2f3": {
          "model_module": "@jupyter-widgets/controls",
          "model_module_version": "1.5.0",
          "model_name": "HTMLModel",
          "state": {
            "_dom_classes": [],
            "_model_module": "@jupyter-widgets/controls",
            "_model_module_version": "1.5.0",
            "_model_name": "HTMLModel",
            "_view_count": null,
            "_view_module": "@jupyter-widgets/controls",
            "_view_module_version": "1.5.0",
            "_view_name": "HTMLView",
            "description": "",
            "description_tooltip": null,
            "layout": "IPY_MODEL_037ea3a7a4c24e6aad824a015ecb92c1",
            "placeholder": "​",
            "style": "IPY_MODEL_b576f8ce58d7478fb133d5ef08af3f44",
            "value": " 100/100 [00:04&lt;00:00, 23.62it/s]"
          }
        },
        "46558571462b42149744224d2c49345d": {
          "model_module": "@jupyter-widgets/controls",
          "model_module_version": "1.5.0",
          "model_name": "DescriptionStyleModel",
          "state": {
            "_model_module": "@jupyter-widgets/controls",
            "_model_module_version": "1.5.0",
            "_model_name": "DescriptionStyleModel",
            "_view_count": null,
            "_view_module": "@jupyter-widgets/base",
            "_view_module_version": "1.2.0",
            "_view_name": "StyleView",
            "description_width": ""
          }
        },
        "47adbdd0ae6840c7a6f1d03d82915f5e": {
          "model_module": "@jupyter-widgets/controls",
          "model_module_version": "1.5.0",
          "model_name": "DescriptionStyleModel",
          "state": {
            "_model_module": "@jupyter-widgets/controls",
            "_model_module_version": "1.5.0",
            "_model_name": "DescriptionStyleModel",
            "_view_count": null,
            "_view_module": "@jupyter-widgets/base",
            "_view_module_version": "1.2.0",
            "_view_name": "StyleView",
            "description_width": ""
          }
        },
        "4cc3ed373d854cf4a67f8d4df6c57dec": {
          "model_module": "@jupyter-widgets/controls",
          "model_module_version": "1.5.0",
          "model_name": "HBoxModel",
          "state": {
            "_dom_classes": [],
            "_model_module": "@jupyter-widgets/controls",
            "_model_module_version": "1.5.0",
            "_model_name": "HBoxModel",
            "_view_count": null,
            "_view_module": "@jupyter-widgets/controls",
            "_view_module_version": "1.5.0",
            "_view_name": "HBoxView",
            "box_style": "",
            "children": [
              "IPY_MODEL_072ce0403cf2445787c049baf346b1a7",
              "IPY_MODEL_81da5911279c4c1d8de8752fe42910f3",
              "IPY_MODEL_abaa05ba845b42d8a203ffe070473853"
            ],
            "layout": "IPY_MODEL_f7f741f2282f4b599180c8f6dc463331"
          }
        },
        "5500d1c4322a4e32b16ec9c58228c6db": {
          "model_module": "@jupyter-widgets/base",
          "model_module_version": "1.2.0",
          "model_name": "LayoutModel",
          "state": {
            "_model_module": "@jupyter-widgets/base",
            "_model_module_version": "1.2.0",
            "_model_name": "LayoutModel",
            "_view_count": null,
            "_view_module": "@jupyter-widgets/base",
            "_view_module_version": "1.2.0",
            "_view_name": "LayoutView",
            "align_content": null,
            "align_items": null,
            "align_self": null,
            "border": null,
            "bottom": null,
            "display": null,
            "flex": null,
            "flex_flow": null,
            "grid_area": null,
            "grid_auto_columns": null,
            "grid_auto_flow": null,
            "grid_auto_rows": null,
            "grid_column": null,
            "grid_gap": null,
            "grid_row": null,
            "grid_template_areas": null,
            "grid_template_columns": null,
            "grid_template_rows": null,
            "height": null,
            "justify_content": null,
            "justify_items": null,
            "left": null,
            "margin": null,
            "max_height": null,
            "max_width": null,
            "min_height": null,
            "min_width": null,
            "object_fit": null,
            "object_position": null,
            "order": null,
            "overflow": null,
            "overflow_x": null,
            "overflow_y": null,
            "padding": null,
            "right": null,
            "top": null,
            "visibility": null,
            "width": null
          }
        },
        "560bb9bee8004e5286226d0add2b106d": {
          "model_module": "@jupyter-widgets/controls",
          "model_module_version": "1.5.0",
          "model_name": "HTMLModel",
          "state": {
            "_dom_classes": [],
            "_model_module": "@jupyter-widgets/controls",
            "_model_module_version": "1.5.0",
            "_model_name": "HTMLModel",
            "_view_count": null,
            "_view_module": "@jupyter-widgets/controls",
            "_view_module_version": "1.5.0",
            "_view_name": "HTMLView",
            "description": "",
            "description_tooltip": null,
            "layout": "IPY_MODEL_cea36b7803bf4036ba36532665f294bd",
            "placeholder": "​",
            "style": "IPY_MODEL_47adbdd0ae6840c7a6f1d03d82915f5e",
            "value": "100%"
          }
        },
        "56a251d6dedc494098f29e15eed94c09": {
          "model_module": "@jupyter-widgets/controls",
          "model_module_version": "1.5.0",
          "model_name": "HTMLModel",
          "state": {
            "_dom_classes": [],
            "_model_module": "@jupyter-widgets/controls",
            "_model_module_version": "1.5.0",
            "_model_name": "HTMLModel",
            "_view_count": null,
            "_view_module": "@jupyter-widgets/controls",
            "_view_module_version": "1.5.0",
            "_view_name": "HTMLView",
            "description": "",
            "description_tooltip": null,
            "layout": "IPY_MODEL_35b22ccbdd7d492f873ff0605ace3b79",
            "placeholder": "​",
            "style": "IPY_MODEL_70f68e9ea01a4cf3b84fdca96e0ac4da",
            "value": "100%"
          }
        },
        "56d0c82b9244494d803d033142d6827b": {
          "model_module": "@jupyter-widgets/controls",
          "model_module_version": "1.5.0",
          "model_name": "HBoxModel",
          "state": {
            "_dom_classes": [],
            "_model_module": "@jupyter-widgets/controls",
            "_model_module_version": "1.5.0",
            "_model_name": "HBoxModel",
            "_view_count": null,
            "_view_module": "@jupyter-widgets/controls",
            "_view_module_version": "1.5.0",
            "_view_name": "HBoxView",
            "box_style": "",
            "children": [
              "IPY_MODEL_56a251d6dedc494098f29e15eed94c09",
              "IPY_MODEL_2733475c1ee74747850d00282a8c938a",
              "IPY_MODEL_fe5d4c6461a1412cb65a41e43e09f93b"
            ],
            "layout": "IPY_MODEL_fa28dde4270648f4a71d5365c598b7f3"
          }
        },
        "5d7156fdf5de40ada8ba991efdbe8ca9": {
          "model_module": "@jupyter-widgets/controls",
          "model_module_version": "1.5.0",
          "model_name": "HBoxModel",
          "state": {
            "_dom_classes": [],
            "_model_module": "@jupyter-widgets/controls",
            "_model_module_version": "1.5.0",
            "_model_name": "HBoxModel",
            "_view_count": null,
            "_view_module": "@jupyter-widgets/controls",
            "_view_module_version": "1.5.0",
            "_view_name": "HBoxView",
            "box_style": "",
            "children": [
              "IPY_MODEL_3870479b81084e05bc115977c2123e72",
              "IPY_MODEL_a4f4fcf9d9bf45a1bce0eb8cd25448d9",
              "IPY_MODEL_da6efa4210e848e38f7b57b7b30f5e56"
            ],
            "layout": "IPY_MODEL_86e66b9c6cd444a7ace3d0c27b0b2cc3"
          }
        },
        "63dfd592bbe84042a1a7aba206eb63f4": {
          "model_module": "@jupyter-widgets/controls",
          "model_module_version": "1.5.0",
          "model_name": "HTMLModel",
          "state": {
            "_dom_classes": [],
            "_model_module": "@jupyter-widgets/controls",
            "_model_module_version": "1.5.0",
            "_model_name": "HTMLModel",
            "_view_count": null,
            "_view_module": "@jupyter-widgets/controls",
            "_view_module_version": "1.5.0",
            "_view_name": "HTMLView",
            "description": "",
            "description_tooltip": null,
            "layout": "IPY_MODEL_6e9efc5d19824b37a34c0ab11f61f8c1",
            "placeholder": "​",
            "style": "IPY_MODEL_b0943638d969406198a5613c6f3379b5",
            "value": "100%"
          }
        },
        "6822970f5c3f4403a59ac4e1077ddb6e": {
          "model_module": "@jupyter-widgets/controls",
          "model_module_version": "1.5.0",
          "model_name": "FloatProgressModel",
          "state": {
            "_dom_classes": [],
            "_model_module": "@jupyter-widgets/controls",
            "_model_module_version": "1.5.0",
            "_model_name": "FloatProgressModel",
            "_view_count": null,
            "_view_module": "@jupyter-widgets/controls",
            "_view_module_version": "1.5.0",
            "_view_name": "ProgressView",
            "bar_style": "success",
            "description": "",
            "description_tooltip": null,
            "layout": "IPY_MODEL_e3603bc7d1674bb6a622dd28ac937a4f",
            "max": 100,
            "min": 0,
            "orientation": "horizontal",
            "style": "IPY_MODEL_903b8d9f1bea4ff8bc0b2a38e1a0d6b0",
            "value": 100
          }
        },
        "68af1434bdc64ca182b036fb1c70abc3": {
          "model_module": "@jupyter-widgets/controls",
          "model_module_version": "1.5.0",
          "model_name": "ProgressStyleModel",
          "state": {
            "_model_module": "@jupyter-widgets/controls",
            "_model_module_version": "1.5.0",
            "_model_name": "ProgressStyleModel",
            "_view_count": null,
            "_view_module": "@jupyter-widgets/base",
            "_view_module_version": "1.2.0",
            "_view_name": "StyleView",
            "bar_color": null,
            "description_width": ""
          }
        },
        "69de1acec904475fbdd930ffc1e14895": {
          "model_module": "@jupyter-widgets/controls",
          "model_module_version": "1.5.0",
          "model_name": "HTMLModel",
          "state": {
            "_dom_classes": [],
            "_model_module": "@jupyter-widgets/controls",
            "_model_module_version": "1.5.0",
            "_model_name": "HTMLModel",
            "_view_count": null,
            "_view_module": "@jupyter-widgets/controls",
            "_view_module_version": "1.5.0",
            "_view_name": "HTMLView",
            "description": "",
            "description_tooltip": null,
            "layout": "IPY_MODEL_d0d04a41f7fa4f0c9f966e7a8f5d1ac8",
            "placeholder": "​",
            "style": "IPY_MODEL_351412a6ddec4ff991dd11d0894c2383",
            "value": " 100/100 [00:04&lt;00:00, 23.90it/s]"
          }
        },
        "6c77e9ac4e954b3b970eeb8e6db78f06": {
          "model_module": "@jupyter-widgets/base",
          "model_module_version": "1.2.0",
          "model_name": "LayoutModel",
          "state": {
            "_model_module": "@jupyter-widgets/base",
            "_model_module_version": "1.2.0",
            "_model_name": "LayoutModel",
            "_view_count": null,
            "_view_module": "@jupyter-widgets/base",
            "_view_module_version": "1.2.0",
            "_view_name": "LayoutView",
            "align_content": null,
            "align_items": null,
            "align_self": null,
            "border": null,
            "bottom": null,
            "display": null,
            "flex": null,
            "flex_flow": null,
            "grid_area": null,
            "grid_auto_columns": null,
            "grid_auto_flow": null,
            "grid_auto_rows": null,
            "grid_column": null,
            "grid_gap": null,
            "grid_row": null,
            "grid_template_areas": null,
            "grid_template_columns": null,
            "grid_template_rows": null,
            "height": null,
            "justify_content": null,
            "justify_items": null,
            "left": null,
            "margin": null,
            "max_height": null,
            "max_width": null,
            "min_height": null,
            "min_width": null,
            "object_fit": null,
            "object_position": null,
            "order": null,
            "overflow": null,
            "overflow_x": null,
            "overflow_y": null,
            "padding": null,
            "right": null,
            "top": null,
            "visibility": null,
            "width": null
          }
        },
        "6dd17c881f02460aaf0cfaf219b7b854": {
          "model_module": "@jupyter-widgets/controls",
          "model_module_version": "1.5.0",
          "model_name": "DescriptionStyleModel",
          "state": {
            "_model_module": "@jupyter-widgets/controls",
            "_model_module_version": "1.5.0",
            "_model_name": "DescriptionStyleModel",
            "_view_count": null,
            "_view_module": "@jupyter-widgets/base",
            "_view_module_version": "1.2.0",
            "_view_name": "StyleView",
            "description_width": ""
          }
        },
        "6e9efc5d19824b37a34c0ab11f61f8c1": {
          "model_module": "@jupyter-widgets/base",
          "model_module_version": "1.2.0",
          "model_name": "LayoutModel",
          "state": {
            "_model_module": "@jupyter-widgets/base",
            "_model_module_version": "1.2.0",
            "_model_name": "LayoutModel",
            "_view_count": null,
            "_view_module": "@jupyter-widgets/base",
            "_view_module_version": "1.2.0",
            "_view_name": "LayoutView",
            "align_content": null,
            "align_items": null,
            "align_self": null,
            "border": null,
            "bottom": null,
            "display": null,
            "flex": null,
            "flex_flow": null,
            "grid_area": null,
            "grid_auto_columns": null,
            "grid_auto_flow": null,
            "grid_auto_rows": null,
            "grid_column": null,
            "grid_gap": null,
            "grid_row": null,
            "grid_template_areas": null,
            "grid_template_columns": null,
            "grid_template_rows": null,
            "height": null,
            "justify_content": null,
            "justify_items": null,
            "left": null,
            "margin": null,
            "max_height": null,
            "max_width": null,
            "min_height": null,
            "min_width": null,
            "object_fit": null,
            "object_position": null,
            "order": null,
            "overflow": null,
            "overflow_x": null,
            "overflow_y": null,
            "padding": null,
            "right": null,
            "top": null,
            "visibility": null,
            "width": null
          }
        },
        "70f68e9ea01a4cf3b84fdca96e0ac4da": {
          "model_module": "@jupyter-widgets/controls",
          "model_module_version": "1.5.0",
          "model_name": "DescriptionStyleModel",
          "state": {
            "_model_module": "@jupyter-widgets/controls",
            "_model_module_version": "1.5.0",
            "_model_name": "DescriptionStyleModel",
            "_view_count": null,
            "_view_module": "@jupyter-widgets/base",
            "_view_module_version": "1.2.0",
            "_view_name": "StyleView",
            "description_width": ""
          }
        },
        "75367419a47f4e1bb01b9421e142e0ba": {
          "model_module": "@jupyter-widgets/controls",
          "model_module_version": "1.5.0",
          "model_name": "DescriptionStyleModel",
          "state": {
            "_model_module": "@jupyter-widgets/controls",
            "_model_module_version": "1.5.0",
            "_model_name": "DescriptionStyleModel",
            "_view_count": null,
            "_view_module": "@jupyter-widgets/base",
            "_view_module_version": "1.2.0",
            "_view_name": "StyleView",
            "description_width": ""
          }
        },
        "7619f827e28d4ca4bf4dad3409e6cc22": {
          "model_module": "@jupyter-widgets/controls",
          "model_module_version": "1.5.0",
          "model_name": "DescriptionStyleModel",
          "state": {
            "_model_module": "@jupyter-widgets/controls",
            "_model_module_version": "1.5.0",
            "_model_name": "DescriptionStyleModel",
            "_view_count": null,
            "_view_module": "@jupyter-widgets/base",
            "_view_module_version": "1.2.0",
            "_view_name": "StyleView",
            "description_width": ""
          }
        },
        "7b891dd17d4947dfbe10dfd0e10f1405": {
          "model_module": "@jupyter-widgets/controls",
          "model_module_version": "1.5.0",
          "model_name": "DescriptionStyleModel",
          "state": {
            "_model_module": "@jupyter-widgets/controls",
            "_model_module_version": "1.5.0",
            "_model_name": "DescriptionStyleModel",
            "_view_count": null,
            "_view_module": "@jupyter-widgets/base",
            "_view_module_version": "1.2.0",
            "_view_name": "StyleView",
            "description_width": ""
          }
        },
        "7c13ae2527dc44a1956a71e488538ca3": {
          "model_module": "@jupyter-widgets/base",
          "model_module_version": "1.2.0",
          "model_name": "LayoutModel",
          "state": {
            "_model_module": "@jupyter-widgets/base",
            "_model_module_version": "1.2.0",
            "_model_name": "LayoutModel",
            "_view_count": null,
            "_view_module": "@jupyter-widgets/base",
            "_view_module_version": "1.2.0",
            "_view_name": "LayoutView",
            "align_content": null,
            "align_items": null,
            "align_self": null,
            "border": null,
            "bottom": null,
            "display": null,
            "flex": null,
            "flex_flow": null,
            "grid_area": null,
            "grid_auto_columns": null,
            "grid_auto_flow": null,
            "grid_auto_rows": null,
            "grid_column": null,
            "grid_gap": null,
            "grid_row": null,
            "grid_template_areas": null,
            "grid_template_columns": null,
            "grid_template_rows": null,
            "height": null,
            "justify_content": null,
            "justify_items": null,
            "left": null,
            "margin": null,
            "max_height": null,
            "max_width": null,
            "min_height": null,
            "min_width": null,
            "object_fit": null,
            "object_position": null,
            "order": null,
            "overflow": null,
            "overflow_x": null,
            "overflow_y": null,
            "padding": null,
            "right": null,
            "top": null,
            "visibility": null,
            "width": null
          }
        },
        "81da5911279c4c1d8de8752fe42910f3": {
          "model_module": "@jupyter-widgets/controls",
          "model_module_version": "1.5.0",
          "model_name": "FloatProgressModel",
          "state": {
            "_dom_classes": [],
            "_model_module": "@jupyter-widgets/controls",
            "_model_module_version": "1.5.0",
            "_model_name": "FloatProgressModel",
            "_view_count": null,
            "_view_module": "@jupyter-widgets/controls",
            "_view_module_version": "1.5.0",
            "_view_name": "ProgressView",
            "bar_style": "success",
            "description": "",
            "description_tooltip": null,
            "layout": "IPY_MODEL_ec434c0f222941cbaa216bf2358d251e",
            "max": 100,
            "min": 0,
            "orientation": "horizontal",
            "style": "IPY_MODEL_be3502c3d5d04c899b5d5193258a59f1",
            "value": 100
          }
        },
        "85c1290592304686b7e93e49a2a2f266": {
          "model_module": "@jupyter-widgets/controls",
          "model_module_version": "1.5.0",
          "model_name": "FloatProgressModel",
          "state": {
            "_dom_classes": [],
            "_model_module": "@jupyter-widgets/controls",
            "_model_module_version": "1.5.0",
            "_model_name": "FloatProgressModel",
            "_view_count": null,
            "_view_module": "@jupyter-widgets/controls",
            "_view_module_version": "1.5.0",
            "_view_name": "ProgressView",
            "bar_style": "success",
            "description": "",
            "description_tooltip": null,
            "layout": "IPY_MODEL_d3cfd967ab8d4276958b0fe23582e1aa",
            "max": 100,
            "min": 0,
            "orientation": "horizontal",
            "style": "IPY_MODEL_68af1434bdc64ca182b036fb1c70abc3",
            "value": 100
          }
        },
        "86e66b9c6cd444a7ace3d0c27b0b2cc3": {
          "model_module": "@jupyter-widgets/base",
          "model_module_version": "1.2.0",
          "model_name": "LayoutModel",
          "state": {
            "_model_module": "@jupyter-widgets/base",
            "_model_module_version": "1.2.0",
            "_model_name": "LayoutModel",
            "_view_count": null,
            "_view_module": "@jupyter-widgets/base",
            "_view_module_version": "1.2.0",
            "_view_name": "LayoutView",
            "align_content": null,
            "align_items": null,
            "align_self": null,
            "border": null,
            "bottom": null,
            "display": null,
            "flex": null,
            "flex_flow": null,
            "grid_area": null,
            "grid_auto_columns": null,
            "grid_auto_flow": null,
            "grid_auto_rows": null,
            "grid_column": null,
            "grid_gap": null,
            "grid_row": null,
            "grid_template_areas": null,
            "grid_template_columns": null,
            "grid_template_rows": null,
            "height": null,
            "justify_content": null,
            "justify_items": null,
            "left": null,
            "margin": null,
            "max_height": null,
            "max_width": null,
            "min_height": null,
            "min_width": null,
            "object_fit": null,
            "object_position": null,
            "order": null,
            "overflow": null,
            "overflow_x": null,
            "overflow_y": null,
            "padding": null,
            "right": null,
            "top": null,
            "visibility": null,
            "width": null
          }
        },
        "903b8d9f1bea4ff8bc0b2a38e1a0d6b0": {
          "model_module": "@jupyter-widgets/controls",
          "model_module_version": "1.5.0",
          "model_name": "ProgressStyleModel",
          "state": {
            "_model_module": "@jupyter-widgets/controls",
            "_model_module_version": "1.5.0",
            "_model_name": "ProgressStyleModel",
            "_view_count": null,
            "_view_module": "@jupyter-widgets/base",
            "_view_module_version": "1.2.0",
            "_view_name": "StyleView",
            "bar_color": null,
            "description_width": ""
          }
        },
        "966c7eeca61542fd8740d15055aaaa31": {
          "model_module": "@jupyter-widgets/base",
          "model_module_version": "1.2.0",
          "model_name": "LayoutModel",
          "state": {
            "_model_module": "@jupyter-widgets/base",
            "_model_module_version": "1.2.0",
            "_model_name": "LayoutModel",
            "_view_count": null,
            "_view_module": "@jupyter-widgets/base",
            "_view_module_version": "1.2.0",
            "_view_name": "LayoutView",
            "align_content": null,
            "align_items": null,
            "align_self": null,
            "border": null,
            "bottom": null,
            "display": null,
            "flex": null,
            "flex_flow": null,
            "grid_area": null,
            "grid_auto_columns": null,
            "grid_auto_flow": null,
            "grid_auto_rows": null,
            "grid_column": null,
            "grid_gap": null,
            "grid_row": null,
            "grid_template_areas": null,
            "grid_template_columns": null,
            "grid_template_rows": null,
            "height": null,
            "justify_content": null,
            "justify_items": null,
            "left": null,
            "margin": null,
            "max_height": null,
            "max_width": null,
            "min_height": null,
            "min_width": null,
            "object_fit": null,
            "object_position": null,
            "order": null,
            "overflow": null,
            "overflow_x": null,
            "overflow_y": null,
            "padding": null,
            "right": null,
            "top": null,
            "visibility": null,
            "width": null
          }
        },
        "998777c2e5544d0294344406a1623023": {
          "model_module": "@jupyter-widgets/controls",
          "model_module_version": "1.5.0",
          "model_name": "FloatProgressModel",
          "state": {
            "_dom_classes": [],
            "_model_module": "@jupyter-widgets/controls",
            "_model_module_version": "1.5.0",
            "_model_name": "FloatProgressModel",
            "_view_count": null,
            "_view_module": "@jupyter-widgets/controls",
            "_view_module_version": "1.5.0",
            "_view_name": "ProgressView",
            "bar_style": "success",
            "description": "",
            "description_tooltip": null,
            "layout": "IPY_MODEL_3d139af3a1624f20babf1b8c1a09c7ab",
            "max": 100,
            "min": 0,
            "orientation": "horizontal",
            "style": "IPY_MODEL_9c8512a295854c729f66e44a2308c522",
            "value": 100
          }
        },
        "9ad8f1aab1b849ea9c5d0cc2ad7e1b63": {
          "model_module": "@jupyter-widgets/controls",
          "model_module_version": "1.5.0",
          "model_name": "HBoxModel",
          "state": {
            "_dom_classes": [],
            "_model_module": "@jupyter-widgets/controls",
            "_model_module_version": "1.5.0",
            "_model_name": "HBoxModel",
            "_view_count": null,
            "_view_module": "@jupyter-widgets/controls",
            "_view_module_version": "1.5.0",
            "_view_name": "HBoxView",
            "box_style": "",
            "children": [
              "IPY_MODEL_a2561cc453d64f8aa121a1d9ebb80ce6",
              "IPY_MODEL_bb5ac8e3f06f4fa688112b031da606c8",
              "IPY_MODEL_44398463abfc4d5ba5083f048c8be2f3"
            ],
            "layout": "IPY_MODEL_6c77e9ac4e954b3b970eeb8e6db78f06"
          }
        },
        "9c8512a295854c729f66e44a2308c522": {
          "model_module": "@jupyter-widgets/controls",
          "model_module_version": "1.5.0",
          "model_name": "ProgressStyleModel",
          "state": {
            "_model_module": "@jupyter-widgets/controls",
            "_model_module_version": "1.5.0",
            "_model_name": "ProgressStyleModel",
            "_view_count": null,
            "_view_module": "@jupyter-widgets/base",
            "_view_module_version": "1.2.0",
            "_view_name": "StyleView",
            "bar_color": null,
            "description_width": ""
          }
        },
        "a2561cc453d64f8aa121a1d9ebb80ce6": {
          "model_module": "@jupyter-widgets/controls",
          "model_module_version": "1.5.0",
          "model_name": "HTMLModel",
          "state": {
            "_dom_classes": [],
            "_model_module": "@jupyter-widgets/controls",
            "_model_module_version": "1.5.0",
            "_model_name": "HTMLModel",
            "_view_count": null,
            "_view_module": "@jupyter-widgets/controls",
            "_view_module_version": "1.5.0",
            "_view_name": "HTMLView",
            "description": "",
            "description_tooltip": null,
            "layout": "IPY_MODEL_c239d75a6f2247998856778be583d77e",
            "placeholder": "​",
            "style": "IPY_MODEL_d31a3e6499c9436ea335c363bde871b1",
            "value": "100%"
          }
        },
        "a4f4fcf9d9bf45a1bce0eb8cd25448d9": {
          "model_module": "@jupyter-widgets/controls",
          "model_module_version": "1.5.0",
          "model_name": "FloatProgressModel",
          "state": {
            "_dom_classes": [],
            "_model_module": "@jupyter-widgets/controls",
            "_model_module_version": "1.5.0",
            "_model_name": "FloatProgressModel",
            "_view_count": null,
            "_view_module": "@jupyter-widgets/controls",
            "_view_module_version": "1.5.0",
            "_view_name": "ProgressView",
            "bar_style": "success",
            "description": "",
            "description_tooltip": null,
            "layout": "IPY_MODEL_1107637f418c4d6fa8f1ef89b0be7ff0",
            "max": 100,
            "min": 0,
            "orientation": "horizontal",
            "style": "IPY_MODEL_089529ceeaa14f188c196c3a66b22c4e",
            "value": 100
          }
        },
        "a837b1ab1d94459ab0892b7e5ec3b490": {
          "model_module": "@jupyter-widgets/base",
          "model_module_version": "1.2.0",
          "model_name": "LayoutModel",
          "state": {
            "_model_module": "@jupyter-widgets/base",
            "_model_module_version": "1.2.0",
            "_model_name": "LayoutModel",
            "_view_count": null,
            "_view_module": "@jupyter-widgets/base",
            "_view_module_version": "1.2.0",
            "_view_name": "LayoutView",
            "align_content": null,
            "align_items": null,
            "align_self": null,
            "border": null,
            "bottom": null,
            "display": null,
            "flex": null,
            "flex_flow": null,
            "grid_area": null,
            "grid_auto_columns": null,
            "grid_auto_flow": null,
            "grid_auto_rows": null,
            "grid_column": null,
            "grid_gap": null,
            "grid_row": null,
            "grid_template_areas": null,
            "grid_template_columns": null,
            "grid_template_rows": null,
            "height": null,
            "justify_content": null,
            "justify_items": null,
            "left": null,
            "margin": null,
            "max_height": null,
            "max_width": null,
            "min_height": null,
            "min_width": null,
            "object_fit": null,
            "object_position": null,
            "order": null,
            "overflow": null,
            "overflow_x": null,
            "overflow_y": null,
            "padding": null,
            "right": null,
            "top": null,
            "visibility": null,
            "width": null
          }
        },
        "abaa05ba845b42d8a203ffe070473853": {
          "model_module": "@jupyter-widgets/controls",
          "model_module_version": "1.5.0",
          "model_name": "HTMLModel",
          "state": {
            "_dom_classes": [],
            "_model_module": "@jupyter-widgets/controls",
            "_model_module_version": "1.5.0",
            "_model_name": "HTMLModel",
            "_view_count": null,
            "_view_module": "@jupyter-widgets/controls",
            "_view_module_version": "1.5.0",
            "_view_name": "HTMLView",
            "description": "",
            "description_tooltip": null,
            "layout": "IPY_MODEL_5500d1c4322a4e32b16ec9c58228c6db",
            "placeholder": "​",
            "style": "IPY_MODEL_7b891dd17d4947dfbe10dfd0e10f1405",
            "value": " 100/100 [00:04&lt;00:00, 22.54it/s]"
          }
        },
        "b0943638d969406198a5613c6f3379b5": {
          "model_module": "@jupyter-widgets/controls",
          "model_module_version": "1.5.0",
          "model_name": "DescriptionStyleModel",
          "state": {
            "_model_module": "@jupyter-widgets/controls",
            "_model_module_version": "1.5.0",
            "_model_name": "DescriptionStyleModel",
            "_view_count": null,
            "_view_module": "@jupyter-widgets/base",
            "_view_module_version": "1.2.0",
            "_view_name": "StyleView",
            "description_width": ""
          }
        },
        "b2e4c726edce4e99b30511f1ef336c53": {
          "model_module": "@jupyter-widgets/controls",
          "model_module_version": "1.5.0",
          "model_name": "HBoxModel",
          "state": {
            "_dom_classes": [],
            "_model_module": "@jupyter-widgets/controls",
            "_model_module_version": "1.5.0",
            "_model_name": "HBoxModel",
            "_view_count": null,
            "_view_module": "@jupyter-widgets/controls",
            "_view_module_version": "1.5.0",
            "_view_name": "HBoxView",
            "box_style": "",
            "children": [
              "IPY_MODEL_d83cf8a6753d4655b72b23731b11f524",
              "IPY_MODEL_dbbc3420425e439ab857f73603d2ef90",
              "IPY_MODEL_ea4b9dc2e178499d82433579e564e29c"
            ],
            "layout": "IPY_MODEL_b492ee3c1c0747d98b3519985b23a7e9"
          }
        },
        "b492ee3c1c0747d98b3519985b23a7e9": {
          "model_module": "@jupyter-widgets/base",
          "model_module_version": "1.2.0",
          "model_name": "LayoutModel",
          "state": {
            "_model_module": "@jupyter-widgets/base",
            "_model_module_version": "1.2.0",
            "_model_name": "LayoutModel",
            "_view_count": null,
            "_view_module": "@jupyter-widgets/base",
            "_view_module_version": "1.2.0",
            "_view_name": "LayoutView",
            "align_content": null,
            "align_items": null,
            "align_self": null,
            "border": null,
            "bottom": null,
            "display": null,
            "flex": null,
            "flex_flow": null,
            "grid_area": null,
            "grid_auto_columns": null,
            "grid_auto_flow": null,
            "grid_auto_rows": null,
            "grid_column": null,
            "grid_gap": null,
            "grid_row": null,
            "grid_template_areas": null,
            "grid_template_columns": null,
            "grid_template_rows": null,
            "height": null,
            "justify_content": null,
            "justify_items": null,
            "left": null,
            "margin": null,
            "max_height": null,
            "max_width": null,
            "min_height": null,
            "min_width": null,
            "object_fit": null,
            "object_position": null,
            "order": null,
            "overflow": null,
            "overflow_x": null,
            "overflow_y": null,
            "padding": null,
            "right": null,
            "top": null,
            "visibility": null,
            "width": null
          }
        },
        "b576f8ce58d7478fb133d5ef08af3f44": {
          "model_module": "@jupyter-widgets/controls",
          "model_module_version": "1.5.0",
          "model_name": "DescriptionStyleModel",
          "state": {
            "_model_module": "@jupyter-widgets/controls",
            "_model_module_version": "1.5.0",
            "_model_name": "DescriptionStyleModel",
            "_view_count": null,
            "_view_module": "@jupyter-widgets/base",
            "_view_module_version": "1.2.0",
            "_view_name": "StyleView",
            "description_width": ""
          }
        },
        "b7f5c1425aae4f559011ce4e7eb6db6c": {
          "model_module": "@jupyter-widgets/controls",
          "model_module_version": "1.5.0",
          "model_name": "HBoxModel",
          "state": {
            "_dom_classes": [],
            "_model_module": "@jupyter-widgets/controls",
            "_model_module_version": "1.5.0",
            "_model_name": "HBoxModel",
            "_view_count": null,
            "_view_module": "@jupyter-widgets/controls",
            "_view_module_version": "1.5.0",
            "_view_name": "HBoxView",
            "box_style": "",
            "children": [
              "IPY_MODEL_00f729ccec4a47eabfd1f3f3e9ea7eef",
              "IPY_MODEL_998777c2e5544d0294344406a1623023",
              "IPY_MODEL_69de1acec904475fbdd930ffc1e14895"
            ],
            "layout": "IPY_MODEL_b9138fae26e643d98a8965979640bb5c"
          }
        },
        "b9138fae26e643d98a8965979640bb5c": {
          "model_module": "@jupyter-widgets/base",
          "model_module_version": "1.2.0",
          "model_name": "LayoutModel",
          "state": {
            "_model_module": "@jupyter-widgets/base",
            "_model_module_version": "1.2.0",
            "_model_name": "LayoutModel",
            "_view_count": null,
            "_view_module": "@jupyter-widgets/base",
            "_view_module_version": "1.2.0",
            "_view_name": "LayoutView",
            "align_content": null,
            "align_items": null,
            "align_self": null,
            "border": null,
            "bottom": null,
            "display": null,
            "flex": null,
            "flex_flow": null,
            "grid_area": null,
            "grid_auto_columns": null,
            "grid_auto_flow": null,
            "grid_auto_rows": null,
            "grid_column": null,
            "grid_gap": null,
            "grid_row": null,
            "grid_template_areas": null,
            "grid_template_columns": null,
            "grid_template_rows": null,
            "height": null,
            "justify_content": null,
            "justify_items": null,
            "left": null,
            "margin": null,
            "max_height": null,
            "max_width": null,
            "min_height": null,
            "min_width": null,
            "object_fit": null,
            "object_position": null,
            "order": null,
            "overflow": null,
            "overflow_x": null,
            "overflow_y": null,
            "padding": null,
            "right": null,
            "top": null,
            "visibility": null,
            "width": null
          }
        },
        "b939eb63823647f89059f6dbf960b601": {
          "model_module": "@jupyter-widgets/base",
          "model_module_version": "1.2.0",
          "model_name": "LayoutModel",
          "state": {
            "_model_module": "@jupyter-widgets/base",
            "_model_module_version": "1.2.0",
            "_model_name": "LayoutModel",
            "_view_count": null,
            "_view_module": "@jupyter-widgets/base",
            "_view_module_version": "1.2.0",
            "_view_name": "LayoutView",
            "align_content": null,
            "align_items": null,
            "align_self": null,
            "border": null,
            "bottom": null,
            "display": null,
            "flex": null,
            "flex_flow": null,
            "grid_area": null,
            "grid_auto_columns": null,
            "grid_auto_flow": null,
            "grid_auto_rows": null,
            "grid_column": null,
            "grid_gap": null,
            "grid_row": null,
            "grid_template_areas": null,
            "grid_template_columns": null,
            "grid_template_rows": null,
            "height": null,
            "justify_content": null,
            "justify_items": null,
            "left": null,
            "margin": null,
            "max_height": null,
            "max_width": null,
            "min_height": null,
            "min_width": null,
            "object_fit": null,
            "object_position": null,
            "order": null,
            "overflow": null,
            "overflow_x": null,
            "overflow_y": null,
            "padding": null,
            "right": null,
            "top": null,
            "visibility": null,
            "width": null
          }
        },
        "bb5ac8e3f06f4fa688112b031da606c8": {
          "model_module": "@jupyter-widgets/controls",
          "model_module_version": "1.5.0",
          "model_name": "FloatProgressModel",
          "state": {
            "_dom_classes": [],
            "_model_module": "@jupyter-widgets/controls",
            "_model_module_version": "1.5.0",
            "_model_name": "FloatProgressModel",
            "_view_count": null,
            "_view_module": "@jupyter-widgets/controls",
            "_view_module_version": "1.5.0",
            "_view_name": "ProgressView",
            "bar_style": "success",
            "description": "",
            "description_tooltip": null,
            "layout": "IPY_MODEL_a837b1ab1d94459ab0892b7e5ec3b490",
            "max": 100,
            "min": 0,
            "orientation": "horizontal",
            "style": "IPY_MODEL_e558778d578f440488f36ed5d5f44094",
            "value": 100
          }
        },
        "bc71e02c457842dfb0092dd35585bc8b": {
          "model_module": "@jupyter-widgets/base",
          "model_module_version": "1.2.0",
          "model_name": "LayoutModel",
          "state": {
            "_model_module": "@jupyter-widgets/base",
            "_model_module_version": "1.2.0",
            "_model_name": "LayoutModel",
            "_view_count": null,
            "_view_module": "@jupyter-widgets/base",
            "_view_module_version": "1.2.0",
            "_view_name": "LayoutView",
            "align_content": null,
            "align_items": null,
            "align_self": null,
            "border": null,
            "bottom": null,
            "display": null,
            "flex": null,
            "flex_flow": null,
            "grid_area": null,
            "grid_auto_columns": null,
            "grid_auto_flow": null,
            "grid_auto_rows": null,
            "grid_column": null,
            "grid_gap": null,
            "grid_row": null,
            "grid_template_areas": null,
            "grid_template_columns": null,
            "grid_template_rows": null,
            "height": null,
            "justify_content": null,
            "justify_items": null,
            "left": null,
            "margin": null,
            "max_height": null,
            "max_width": null,
            "min_height": null,
            "min_width": null,
            "object_fit": null,
            "object_position": null,
            "order": null,
            "overflow": null,
            "overflow_x": null,
            "overflow_y": null,
            "padding": null,
            "right": null,
            "top": null,
            "visibility": null,
            "width": null
          }
        },
        "be3502c3d5d04c899b5d5193258a59f1": {
          "model_module": "@jupyter-widgets/controls",
          "model_module_version": "1.5.0",
          "model_name": "ProgressStyleModel",
          "state": {
            "_model_module": "@jupyter-widgets/controls",
            "_model_module_version": "1.5.0",
            "_model_name": "ProgressStyleModel",
            "_view_count": null,
            "_view_module": "@jupyter-widgets/base",
            "_view_module_version": "1.2.0",
            "_view_name": "StyleView",
            "bar_color": null,
            "description_width": ""
          }
        },
        "c239d75a6f2247998856778be583d77e": {
          "model_module": "@jupyter-widgets/base",
          "model_module_version": "1.2.0",
          "model_name": "LayoutModel",
          "state": {
            "_model_module": "@jupyter-widgets/base",
            "_model_module_version": "1.2.0",
            "_model_name": "LayoutModel",
            "_view_count": null,
            "_view_module": "@jupyter-widgets/base",
            "_view_module_version": "1.2.0",
            "_view_name": "LayoutView",
            "align_content": null,
            "align_items": null,
            "align_self": null,
            "border": null,
            "bottom": null,
            "display": null,
            "flex": null,
            "flex_flow": null,
            "grid_area": null,
            "grid_auto_columns": null,
            "grid_auto_flow": null,
            "grid_auto_rows": null,
            "grid_column": null,
            "grid_gap": null,
            "grid_row": null,
            "grid_template_areas": null,
            "grid_template_columns": null,
            "grid_template_rows": null,
            "height": null,
            "justify_content": null,
            "justify_items": null,
            "left": null,
            "margin": null,
            "max_height": null,
            "max_width": null,
            "min_height": null,
            "min_width": null,
            "object_fit": null,
            "object_position": null,
            "order": null,
            "overflow": null,
            "overflow_x": null,
            "overflow_y": null,
            "padding": null,
            "right": null,
            "top": null,
            "visibility": null,
            "width": null
          }
        },
        "c5e6a7c8e69944c2a9e69a6e3babf084": {
          "model_module": "@jupyter-widgets/controls",
          "model_module_version": "1.5.0",
          "model_name": "HBoxModel",
          "state": {
            "_dom_classes": [],
            "_model_module": "@jupyter-widgets/controls",
            "_model_module_version": "1.5.0",
            "_model_name": "HBoxModel",
            "_view_count": null,
            "_view_module": "@jupyter-widgets/controls",
            "_view_module_version": "1.5.0",
            "_view_name": "HBoxView",
            "box_style": "",
            "children": [
              "IPY_MODEL_560bb9bee8004e5286226d0add2b106d",
              "IPY_MODEL_6822970f5c3f4403a59ac4e1077ddb6e",
              "IPY_MODEL_cc00fd1059d74ae09dd25d42b79a3907"
            ],
            "layout": "IPY_MODEL_cffc45e39cf84fc1980829c1f567dec8"
          }
        },
        "c651a7633fa04541a448c654205bb213": {
          "model_module": "@jupyter-widgets/controls",
          "model_module_version": "1.5.0",
          "model_name": "DescriptionStyleModel",
          "state": {
            "_model_module": "@jupyter-widgets/controls",
            "_model_module_version": "1.5.0",
            "_model_name": "DescriptionStyleModel",
            "_view_count": null,
            "_view_module": "@jupyter-widgets/base",
            "_view_module_version": "1.2.0",
            "_view_name": "StyleView",
            "description_width": ""
          }
        },
        "c721229a30384521a3165e93f9984561": {
          "model_module": "@jupyter-widgets/base",
          "model_module_version": "1.2.0",
          "model_name": "LayoutModel",
          "state": {
            "_model_module": "@jupyter-widgets/base",
            "_model_module_version": "1.2.0",
            "_model_name": "LayoutModel",
            "_view_count": null,
            "_view_module": "@jupyter-widgets/base",
            "_view_module_version": "1.2.0",
            "_view_name": "LayoutView",
            "align_content": null,
            "align_items": null,
            "align_self": null,
            "border": null,
            "bottom": null,
            "display": null,
            "flex": null,
            "flex_flow": null,
            "grid_area": null,
            "grid_auto_columns": null,
            "grid_auto_flow": null,
            "grid_auto_rows": null,
            "grid_column": null,
            "grid_gap": null,
            "grid_row": null,
            "grid_template_areas": null,
            "grid_template_columns": null,
            "grid_template_rows": null,
            "height": null,
            "justify_content": null,
            "justify_items": null,
            "left": null,
            "margin": null,
            "max_height": null,
            "max_width": null,
            "min_height": null,
            "min_width": null,
            "object_fit": null,
            "object_position": null,
            "order": null,
            "overflow": null,
            "overflow_x": null,
            "overflow_y": null,
            "padding": null,
            "right": null,
            "top": null,
            "visibility": null,
            "width": null
          }
        },
        "c90c000970ab4a4ebe2494b067fe570d": {
          "model_module": "@jupyter-widgets/base",
          "model_module_version": "1.2.0",
          "model_name": "LayoutModel",
          "state": {
            "_model_module": "@jupyter-widgets/base",
            "_model_module_version": "1.2.0",
            "_model_name": "LayoutModel",
            "_view_count": null,
            "_view_module": "@jupyter-widgets/base",
            "_view_module_version": "1.2.0",
            "_view_name": "LayoutView",
            "align_content": null,
            "align_items": null,
            "align_self": null,
            "border": null,
            "bottom": null,
            "display": null,
            "flex": null,
            "flex_flow": null,
            "grid_area": null,
            "grid_auto_columns": null,
            "grid_auto_flow": null,
            "grid_auto_rows": null,
            "grid_column": null,
            "grid_gap": null,
            "grid_row": null,
            "grid_template_areas": null,
            "grid_template_columns": null,
            "grid_template_rows": null,
            "height": null,
            "justify_content": null,
            "justify_items": null,
            "left": null,
            "margin": null,
            "max_height": null,
            "max_width": null,
            "min_height": null,
            "min_width": null,
            "object_fit": null,
            "object_position": null,
            "order": null,
            "overflow": null,
            "overflow_x": null,
            "overflow_y": null,
            "padding": null,
            "right": null,
            "top": null,
            "visibility": null,
            "width": null
          }
        },
        "cb31d903f2554a9794a2aa198bf70e12": {
          "model_module": "@jupyter-widgets/controls",
          "model_module_version": "1.5.0",
          "model_name": "DescriptionStyleModel",
          "state": {
            "_model_module": "@jupyter-widgets/controls",
            "_model_module_version": "1.5.0",
            "_model_name": "DescriptionStyleModel",
            "_view_count": null,
            "_view_module": "@jupyter-widgets/base",
            "_view_module_version": "1.2.0",
            "_view_name": "StyleView",
            "description_width": ""
          }
        },
        "cc00fd1059d74ae09dd25d42b79a3907": {
          "model_module": "@jupyter-widgets/controls",
          "model_module_version": "1.5.0",
          "model_name": "HTMLModel",
          "state": {
            "_dom_classes": [],
            "_model_module": "@jupyter-widgets/controls",
            "_model_module_version": "1.5.0",
            "_model_name": "HTMLModel",
            "_view_count": null,
            "_view_module": "@jupyter-widgets/controls",
            "_view_module_version": "1.5.0",
            "_view_name": "HTMLView",
            "description": "",
            "description_tooltip": null,
            "layout": "IPY_MODEL_00f73960227a4ec5be454fb0393e3ffc",
            "placeholder": "​",
            "style": "IPY_MODEL_cb31d903f2554a9794a2aa198bf70e12",
            "value": " 100/100 [00:04&lt;00:00, 19.10it/s]"
          }
        },
        "cea36b7803bf4036ba36532665f294bd": {
          "model_module": "@jupyter-widgets/base",
          "model_module_version": "1.2.0",
          "model_name": "LayoutModel",
          "state": {
            "_model_module": "@jupyter-widgets/base",
            "_model_module_version": "1.2.0",
            "_model_name": "LayoutModel",
            "_view_count": null,
            "_view_module": "@jupyter-widgets/base",
            "_view_module_version": "1.2.0",
            "_view_name": "LayoutView",
            "align_content": null,
            "align_items": null,
            "align_self": null,
            "border": null,
            "bottom": null,
            "display": null,
            "flex": null,
            "flex_flow": null,
            "grid_area": null,
            "grid_auto_columns": null,
            "grid_auto_flow": null,
            "grid_auto_rows": null,
            "grid_column": null,
            "grid_gap": null,
            "grid_row": null,
            "grid_template_areas": null,
            "grid_template_columns": null,
            "grid_template_rows": null,
            "height": null,
            "justify_content": null,
            "justify_items": null,
            "left": null,
            "margin": null,
            "max_height": null,
            "max_width": null,
            "min_height": null,
            "min_width": null,
            "object_fit": null,
            "object_position": null,
            "order": null,
            "overflow": null,
            "overflow_x": null,
            "overflow_y": null,
            "padding": null,
            "right": null,
            "top": null,
            "visibility": null,
            "width": null
          }
        },
        "cf0ce1c17197486abd43f016f439c06d": {
          "model_module": "@jupyter-widgets/controls",
          "model_module_version": "1.5.0",
          "model_name": "HBoxModel",
          "state": {
            "_dom_classes": [],
            "_model_module": "@jupyter-widgets/controls",
            "_model_module_version": "1.5.0",
            "_model_name": "HBoxModel",
            "_view_count": null,
            "_view_module": "@jupyter-widgets/controls",
            "_view_module_version": "1.5.0",
            "_view_name": "HBoxView",
            "box_style": "",
            "children": [
              "IPY_MODEL_eae629de6ead4a1590287b076dfe91bb",
              "IPY_MODEL_ead45c89a0104d7fafab0daefa9692ce",
              "IPY_MODEL_2abad5e9b6f94caaa648b118e03f37d6"
            ],
            "layout": "IPY_MODEL_bc71e02c457842dfb0092dd35585bc8b"
          }
        },
        "cffc45e39cf84fc1980829c1f567dec8": {
          "model_module": "@jupyter-widgets/base",
          "model_module_version": "1.2.0",
          "model_name": "LayoutModel",
          "state": {
            "_model_module": "@jupyter-widgets/base",
            "_model_module_version": "1.2.0",
            "_model_name": "LayoutModel",
            "_view_count": null,
            "_view_module": "@jupyter-widgets/base",
            "_view_module_version": "1.2.0",
            "_view_name": "LayoutView",
            "align_content": null,
            "align_items": null,
            "align_self": null,
            "border": null,
            "bottom": null,
            "display": null,
            "flex": null,
            "flex_flow": null,
            "grid_area": null,
            "grid_auto_columns": null,
            "grid_auto_flow": null,
            "grid_auto_rows": null,
            "grid_column": null,
            "grid_gap": null,
            "grid_row": null,
            "grid_template_areas": null,
            "grid_template_columns": null,
            "grid_template_rows": null,
            "height": null,
            "justify_content": null,
            "justify_items": null,
            "left": null,
            "margin": null,
            "max_height": null,
            "max_width": null,
            "min_height": null,
            "min_width": null,
            "object_fit": null,
            "object_position": null,
            "order": null,
            "overflow": null,
            "overflow_x": null,
            "overflow_y": null,
            "padding": null,
            "right": null,
            "top": null,
            "visibility": null,
            "width": null
          }
        },
        "d0d04a41f7fa4f0c9f966e7a8f5d1ac8": {
          "model_module": "@jupyter-widgets/base",
          "model_module_version": "1.2.0",
          "model_name": "LayoutModel",
          "state": {
            "_model_module": "@jupyter-widgets/base",
            "_model_module_version": "1.2.0",
            "_model_name": "LayoutModel",
            "_view_count": null,
            "_view_module": "@jupyter-widgets/base",
            "_view_module_version": "1.2.0",
            "_view_name": "LayoutView",
            "align_content": null,
            "align_items": null,
            "align_self": null,
            "border": null,
            "bottom": null,
            "display": null,
            "flex": null,
            "flex_flow": null,
            "grid_area": null,
            "grid_auto_columns": null,
            "grid_auto_flow": null,
            "grid_auto_rows": null,
            "grid_column": null,
            "grid_gap": null,
            "grid_row": null,
            "grid_template_areas": null,
            "grid_template_columns": null,
            "grid_template_rows": null,
            "height": null,
            "justify_content": null,
            "justify_items": null,
            "left": null,
            "margin": null,
            "max_height": null,
            "max_width": null,
            "min_height": null,
            "min_width": null,
            "object_fit": null,
            "object_position": null,
            "order": null,
            "overflow": null,
            "overflow_x": null,
            "overflow_y": null,
            "padding": null,
            "right": null,
            "top": null,
            "visibility": null,
            "width": null
          }
        },
        "d2cfb34fdb994a77a69c635e72493eb0": {
          "model_module": "@jupyter-widgets/controls",
          "model_module_version": "1.5.0",
          "model_name": "FloatProgressModel",
          "state": {
            "_dom_classes": [],
            "_model_module": "@jupyter-widgets/controls",
            "_model_module_version": "1.5.0",
            "_model_name": "FloatProgressModel",
            "_view_count": null,
            "_view_module": "@jupyter-widgets/controls",
            "_view_module_version": "1.5.0",
            "_view_name": "ProgressView",
            "bar_style": "success",
            "description": "",
            "description_tooltip": null,
            "layout": "IPY_MODEL_43454ed2840d493c97acfab4f0330927",
            "max": 100,
            "min": 0,
            "orientation": "horizontal",
            "style": "IPY_MODEL_0465b4b054dd43eab066949178ad77ab",
            "value": 100
          }
        },
        "d31a3e6499c9436ea335c363bde871b1": {
          "model_module": "@jupyter-widgets/controls",
          "model_module_version": "1.5.0",
          "model_name": "DescriptionStyleModel",
          "state": {
            "_model_module": "@jupyter-widgets/controls",
            "_model_module_version": "1.5.0",
            "_model_name": "DescriptionStyleModel",
            "_view_count": null,
            "_view_module": "@jupyter-widgets/base",
            "_view_module_version": "1.2.0",
            "_view_name": "StyleView",
            "description_width": ""
          }
        },
        "d3cfd967ab8d4276958b0fe23582e1aa": {
          "model_module": "@jupyter-widgets/base",
          "model_module_version": "1.2.0",
          "model_name": "LayoutModel",
          "state": {
            "_model_module": "@jupyter-widgets/base",
            "_model_module_version": "1.2.0",
            "_model_name": "LayoutModel",
            "_view_count": null,
            "_view_module": "@jupyter-widgets/base",
            "_view_module_version": "1.2.0",
            "_view_name": "LayoutView",
            "align_content": null,
            "align_items": null,
            "align_self": null,
            "border": null,
            "bottom": null,
            "display": null,
            "flex": null,
            "flex_flow": null,
            "grid_area": null,
            "grid_auto_columns": null,
            "grid_auto_flow": null,
            "grid_auto_rows": null,
            "grid_column": null,
            "grid_gap": null,
            "grid_row": null,
            "grid_template_areas": null,
            "grid_template_columns": null,
            "grid_template_rows": null,
            "height": null,
            "justify_content": null,
            "justify_items": null,
            "left": null,
            "margin": null,
            "max_height": null,
            "max_width": null,
            "min_height": null,
            "min_width": null,
            "object_fit": null,
            "object_position": null,
            "order": null,
            "overflow": null,
            "overflow_x": null,
            "overflow_y": null,
            "padding": null,
            "right": null,
            "top": null,
            "visibility": null,
            "width": null
          }
        },
        "d83cf8a6753d4655b72b23731b11f524": {
          "model_module": "@jupyter-widgets/controls",
          "model_module_version": "1.5.0",
          "model_name": "HTMLModel",
          "state": {
            "_dom_classes": [],
            "_model_module": "@jupyter-widgets/controls",
            "_model_module_version": "1.5.0",
            "_model_name": "HTMLModel",
            "_view_count": null,
            "_view_module": "@jupyter-widgets/controls",
            "_view_module_version": "1.5.0",
            "_view_name": "HTMLView",
            "description": "",
            "description_tooltip": null,
            "layout": "IPY_MODEL_1c7f7da52ff84626b8d08bdc5eaa9a8e",
            "placeholder": "​",
            "style": "IPY_MODEL_6dd17c881f02460aaf0cfaf219b7b854",
            "value": "100%"
          }
        },
        "d85f3ee153bf4336b29bd18cc5b01590": {
          "model_module": "@jupyter-widgets/controls",
          "model_module_version": "1.5.0",
          "model_name": "ProgressStyleModel",
          "state": {
            "_model_module": "@jupyter-widgets/controls",
            "_model_module_version": "1.5.0",
            "_model_name": "ProgressStyleModel",
            "_view_count": null,
            "_view_module": "@jupyter-widgets/base",
            "_view_module_version": "1.2.0",
            "_view_name": "StyleView",
            "bar_color": null,
            "description_width": ""
          }
        },
        "d87ef873358a4cbaac5aaa1c640b4ee9": {
          "model_module": "@jupyter-widgets/controls",
          "model_module_version": "1.5.0",
          "model_name": "DescriptionStyleModel",
          "state": {
            "_model_module": "@jupyter-widgets/controls",
            "_model_module_version": "1.5.0",
            "_model_name": "DescriptionStyleModel",
            "_view_count": null,
            "_view_module": "@jupyter-widgets/base",
            "_view_module_version": "1.2.0",
            "_view_name": "StyleView",
            "description_width": ""
          }
        },
        "d970ff163b184210a37ce45ad0e3b6d9": {
          "model_module": "@jupyter-widgets/base",
          "model_module_version": "1.2.0",
          "model_name": "LayoutModel",
          "state": {
            "_model_module": "@jupyter-widgets/base",
            "_model_module_version": "1.2.0",
            "_model_name": "LayoutModel",
            "_view_count": null,
            "_view_module": "@jupyter-widgets/base",
            "_view_module_version": "1.2.0",
            "_view_name": "LayoutView",
            "align_content": null,
            "align_items": null,
            "align_self": null,
            "border": null,
            "bottom": null,
            "display": null,
            "flex": null,
            "flex_flow": null,
            "grid_area": null,
            "grid_auto_columns": null,
            "grid_auto_flow": null,
            "grid_auto_rows": null,
            "grid_column": null,
            "grid_gap": null,
            "grid_row": null,
            "grid_template_areas": null,
            "grid_template_columns": null,
            "grid_template_rows": null,
            "height": null,
            "justify_content": null,
            "justify_items": null,
            "left": null,
            "margin": null,
            "max_height": null,
            "max_width": null,
            "min_height": null,
            "min_width": null,
            "object_fit": null,
            "object_position": null,
            "order": null,
            "overflow": null,
            "overflow_x": null,
            "overflow_y": null,
            "padding": null,
            "right": null,
            "top": null,
            "visibility": null,
            "width": null
          }
        },
        "d974c08f80aa49c0984d01ee4f13c142": {
          "model_module": "@jupyter-widgets/base",
          "model_module_version": "1.2.0",
          "model_name": "LayoutModel",
          "state": {
            "_model_module": "@jupyter-widgets/base",
            "_model_module_version": "1.2.0",
            "_model_name": "LayoutModel",
            "_view_count": null,
            "_view_module": "@jupyter-widgets/base",
            "_view_module_version": "1.2.0",
            "_view_name": "LayoutView",
            "align_content": null,
            "align_items": null,
            "align_self": null,
            "border": null,
            "bottom": null,
            "display": null,
            "flex": null,
            "flex_flow": null,
            "grid_area": null,
            "grid_auto_columns": null,
            "grid_auto_flow": null,
            "grid_auto_rows": null,
            "grid_column": null,
            "grid_gap": null,
            "grid_row": null,
            "grid_template_areas": null,
            "grid_template_columns": null,
            "grid_template_rows": null,
            "height": null,
            "justify_content": null,
            "justify_items": null,
            "left": null,
            "margin": null,
            "max_height": null,
            "max_width": null,
            "min_height": null,
            "min_width": null,
            "object_fit": null,
            "object_position": null,
            "order": null,
            "overflow": null,
            "overflow_x": null,
            "overflow_y": null,
            "padding": null,
            "right": null,
            "top": null,
            "visibility": null,
            "width": null
          }
        },
        "da6efa4210e848e38f7b57b7b30f5e56": {
          "model_module": "@jupyter-widgets/controls",
          "model_module_version": "1.5.0",
          "model_name": "HTMLModel",
          "state": {
            "_dom_classes": [],
            "_model_module": "@jupyter-widgets/controls",
            "_model_module_version": "1.5.0",
            "_model_name": "HTMLModel",
            "_view_count": null,
            "_view_module": "@jupyter-widgets/controls",
            "_view_module_version": "1.5.0",
            "_view_name": "HTMLView",
            "description": "",
            "description_tooltip": null,
            "layout": "IPY_MODEL_c90c000970ab4a4ebe2494b067fe570d",
            "placeholder": "​",
            "style": "IPY_MODEL_e796389075c745e49671b2326835c59f",
            "value": " 100/100 [00:05&lt;00:00, 21.85it/s]"
          }
        },
        "dbbc3420425e439ab857f73603d2ef90": {
          "model_module": "@jupyter-widgets/controls",
          "model_module_version": "1.5.0",
          "model_name": "FloatProgressModel",
          "state": {
            "_dom_classes": [],
            "_model_module": "@jupyter-widgets/controls",
            "_model_module_version": "1.5.0",
            "_model_name": "FloatProgressModel",
            "_view_count": null,
            "_view_module": "@jupyter-widgets/controls",
            "_view_module_version": "1.5.0",
            "_view_name": "ProgressView",
            "bar_style": "success",
            "description": "",
            "description_tooltip": null,
            "layout": "IPY_MODEL_d970ff163b184210a37ce45ad0e3b6d9",
            "max": 100,
            "min": 0,
            "orientation": "horizontal",
            "style": "IPY_MODEL_257075bdf8a04e21b8214d7f814e1a31",
            "value": 100
          }
        },
        "e1a1a3993cbf46f084245b800ea67207": {
          "model_module": "@jupyter-widgets/controls",
          "model_module_version": "1.5.0",
          "model_name": "DescriptionStyleModel",
          "state": {
            "_model_module": "@jupyter-widgets/controls",
            "_model_module_version": "1.5.0",
            "_model_name": "DescriptionStyleModel",
            "_view_count": null,
            "_view_module": "@jupyter-widgets/base",
            "_view_module_version": "1.2.0",
            "_view_name": "StyleView",
            "description_width": ""
          }
        },
        "e3603bc7d1674bb6a622dd28ac937a4f": {
          "model_module": "@jupyter-widgets/base",
          "model_module_version": "1.2.0",
          "model_name": "LayoutModel",
          "state": {
            "_model_module": "@jupyter-widgets/base",
            "_model_module_version": "1.2.0",
            "_model_name": "LayoutModel",
            "_view_count": null,
            "_view_module": "@jupyter-widgets/base",
            "_view_module_version": "1.2.0",
            "_view_name": "LayoutView",
            "align_content": null,
            "align_items": null,
            "align_self": null,
            "border": null,
            "bottom": null,
            "display": null,
            "flex": null,
            "flex_flow": null,
            "grid_area": null,
            "grid_auto_columns": null,
            "grid_auto_flow": null,
            "grid_auto_rows": null,
            "grid_column": null,
            "grid_gap": null,
            "grid_row": null,
            "grid_template_areas": null,
            "grid_template_columns": null,
            "grid_template_rows": null,
            "height": null,
            "justify_content": null,
            "justify_items": null,
            "left": null,
            "margin": null,
            "max_height": null,
            "max_width": null,
            "min_height": null,
            "min_width": null,
            "object_fit": null,
            "object_position": null,
            "order": null,
            "overflow": null,
            "overflow_x": null,
            "overflow_y": null,
            "padding": null,
            "right": null,
            "top": null,
            "visibility": null,
            "width": null
          }
        },
        "e558778d578f440488f36ed5d5f44094": {
          "model_module": "@jupyter-widgets/controls",
          "model_module_version": "1.5.0",
          "model_name": "ProgressStyleModel",
          "state": {
            "_model_module": "@jupyter-widgets/controls",
            "_model_module_version": "1.5.0",
            "_model_name": "ProgressStyleModel",
            "_view_count": null,
            "_view_module": "@jupyter-widgets/base",
            "_view_module_version": "1.2.0",
            "_view_name": "StyleView",
            "bar_color": null,
            "description_width": ""
          }
        },
        "e6d0a2968dbb4d37b7287f012973e3f5": {
          "model_module": "@jupyter-widgets/base",
          "model_module_version": "1.2.0",
          "model_name": "LayoutModel",
          "state": {
            "_model_module": "@jupyter-widgets/base",
            "_model_module_version": "1.2.0",
            "_model_name": "LayoutModel",
            "_view_count": null,
            "_view_module": "@jupyter-widgets/base",
            "_view_module_version": "1.2.0",
            "_view_name": "LayoutView",
            "align_content": null,
            "align_items": null,
            "align_self": null,
            "border": null,
            "bottom": null,
            "display": null,
            "flex": null,
            "flex_flow": null,
            "grid_area": null,
            "grid_auto_columns": null,
            "grid_auto_flow": null,
            "grid_auto_rows": null,
            "grid_column": null,
            "grid_gap": null,
            "grid_row": null,
            "grid_template_areas": null,
            "grid_template_columns": null,
            "grid_template_rows": null,
            "height": null,
            "justify_content": null,
            "justify_items": null,
            "left": null,
            "margin": null,
            "max_height": null,
            "max_width": null,
            "min_height": null,
            "min_width": null,
            "object_fit": null,
            "object_position": null,
            "order": null,
            "overflow": null,
            "overflow_x": null,
            "overflow_y": null,
            "padding": null,
            "right": null,
            "top": null,
            "visibility": null,
            "width": null
          }
        },
        "e796389075c745e49671b2326835c59f": {
          "model_module": "@jupyter-widgets/controls",
          "model_module_version": "1.5.0",
          "model_name": "DescriptionStyleModel",
          "state": {
            "_model_module": "@jupyter-widgets/controls",
            "_model_module_version": "1.5.0",
            "_model_name": "DescriptionStyleModel",
            "_view_count": null,
            "_view_module": "@jupyter-widgets/base",
            "_view_module_version": "1.2.0",
            "_view_name": "StyleView",
            "description_width": ""
          }
        },
        "ea1ad139bc32413a8d601030c2671c5f": {
          "model_module": "@jupyter-widgets/base",
          "model_module_version": "1.2.0",
          "model_name": "LayoutModel",
          "state": {
            "_model_module": "@jupyter-widgets/base",
            "_model_module_version": "1.2.0",
            "_model_name": "LayoutModel",
            "_view_count": null,
            "_view_module": "@jupyter-widgets/base",
            "_view_module_version": "1.2.0",
            "_view_name": "LayoutView",
            "align_content": null,
            "align_items": null,
            "align_self": null,
            "border": null,
            "bottom": null,
            "display": null,
            "flex": null,
            "flex_flow": null,
            "grid_area": null,
            "grid_auto_columns": null,
            "grid_auto_flow": null,
            "grid_auto_rows": null,
            "grid_column": null,
            "grid_gap": null,
            "grid_row": null,
            "grid_template_areas": null,
            "grid_template_columns": null,
            "grid_template_rows": null,
            "height": null,
            "justify_content": null,
            "justify_items": null,
            "left": null,
            "margin": null,
            "max_height": null,
            "max_width": null,
            "min_height": null,
            "min_width": null,
            "object_fit": null,
            "object_position": null,
            "order": null,
            "overflow": null,
            "overflow_x": null,
            "overflow_y": null,
            "padding": null,
            "right": null,
            "top": null,
            "visibility": null,
            "width": null
          }
        },
        "ea4b9dc2e178499d82433579e564e29c": {
          "model_module": "@jupyter-widgets/controls",
          "model_module_version": "1.5.0",
          "model_name": "HTMLModel",
          "state": {
            "_dom_classes": [],
            "_model_module": "@jupyter-widgets/controls",
            "_model_module_version": "1.5.0",
            "_model_name": "HTMLModel",
            "_view_count": null,
            "_view_module": "@jupyter-widgets/controls",
            "_view_module_version": "1.5.0",
            "_view_name": "HTMLView",
            "description": "",
            "description_tooltip": null,
            "layout": "IPY_MODEL_2a7791b9f8e04ee692c951ea9ac3aac4",
            "placeholder": "​",
            "style": "IPY_MODEL_e1a1a3993cbf46f084245b800ea67207",
            "value": " 100/100 [00:04&lt;00:00, 18.95it/s]"
          }
        },
        "ea7dadd4f178465eaf75bba3c8783d7f": {
          "model_module": "@jupyter-widgets/controls",
          "model_module_version": "1.5.0",
          "model_name": "HTMLModel",
          "state": {
            "_dom_classes": [],
            "_model_module": "@jupyter-widgets/controls",
            "_model_module_version": "1.5.0",
            "_model_name": "HTMLModel",
            "_view_count": null,
            "_view_module": "@jupyter-widgets/controls",
            "_view_module_version": "1.5.0",
            "_view_name": "HTMLView",
            "description": "",
            "description_tooltip": null,
            "layout": "IPY_MODEL_b939eb63823647f89059f6dbf960b601",
            "placeholder": "​",
            "style": "IPY_MODEL_75367419a47f4e1bb01b9421e142e0ba",
            "value": " 100/100 [00:04&lt;00:00, 19.67it/s]"
          }
        },
        "ead45c89a0104d7fafab0daefa9692ce": {
          "model_module": "@jupyter-widgets/controls",
          "model_module_version": "1.5.0",
          "model_name": "FloatProgressModel",
          "state": {
            "_dom_classes": [],
            "_model_module": "@jupyter-widgets/controls",
            "_model_module_version": "1.5.0",
            "_model_name": "FloatProgressModel",
            "_view_count": null,
            "_view_module": "@jupyter-widgets/controls",
            "_view_module_version": "1.5.0",
            "_view_name": "ProgressView",
            "bar_style": "success",
            "description": "",
            "description_tooltip": null,
            "layout": "IPY_MODEL_f8f21121f10146edae656998227fe397",
            "max": 100,
            "min": 0,
            "orientation": "horizontal",
            "style": "IPY_MODEL_d85f3ee153bf4336b29bd18cc5b01590",
            "value": 100
          }
        },
        "eae629de6ead4a1590287b076dfe91bb": {
          "model_module": "@jupyter-widgets/controls",
          "model_module_version": "1.5.0",
          "model_name": "HTMLModel",
          "state": {
            "_dom_classes": [],
            "_model_module": "@jupyter-widgets/controls",
            "_model_module_version": "1.5.0",
            "_model_name": "HTMLModel",
            "_view_count": null,
            "_view_module": "@jupyter-widgets/controls",
            "_view_module_version": "1.5.0",
            "_view_name": "HTMLView",
            "description": "",
            "description_tooltip": null,
            "layout": "IPY_MODEL_ea1ad139bc32413a8d601030c2671c5f",
            "placeholder": "​",
            "style": "IPY_MODEL_ef1f9b6a86c245319f95787d1077c77d",
            "value": "100%"
          }
        },
        "ec434c0f222941cbaa216bf2358d251e": {
          "model_module": "@jupyter-widgets/base",
          "model_module_version": "1.2.0",
          "model_name": "LayoutModel",
          "state": {
            "_model_module": "@jupyter-widgets/base",
            "_model_module_version": "1.2.0",
            "_model_name": "LayoutModel",
            "_view_count": null,
            "_view_module": "@jupyter-widgets/base",
            "_view_module_version": "1.2.0",
            "_view_name": "LayoutView",
            "align_content": null,
            "align_items": null,
            "align_self": null,
            "border": null,
            "bottom": null,
            "display": null,
            "flex": null,
            "flex_flow": null,
            "grid_area": null,
            "grid_auto_columns": null,
            "grid_auto_flow": null,
            "grid_auto_rows": null,
            "grid_column": null,
            "grid_gap": null,
            "grid_row": null,
            "grid_template_areas": null,
            "grid_template_columns": null,
            "grid_template_rows": null,
            "height": null,
            "justify_content": null,
            "justify_items": null,
            "left": null,
            "margin": null,
            "max_height": null,
            "max_width": null,
            "min_height": null,
            "min_width": null,
            "object_fit": null,
            "object_position": null,
            "order": null,
            "overflow": null,
            "overflow_x": null,
            "overflow_y": null,
            "padding": null,
            "right": null,
            "top": null,
            "visibility": null,
            "width": null
          }
        },
        "ee5af5c174cc49e291facfafd51f04bd": {
          "model_module": "@jupyter-widgets/controls",
          "model_module_version": "1.5.0",
          "model_name": "DescriptionStyleModel",
          "state": {
            "_model_module": "@jupyter-widgets/controls",
            "_model_module_version": "1.5.0",
            "_model_name": "DescriptionStyleModel",
            "_view_count": null,
            "_view_module": "@jupyter-widgets/base",
            "_view_module_version": "1.2.0",
            "_view_name": "StyleView",
            "description_width": ""
          }
        },
        "ef1f9b6a86c245319f95787d1077c77d": {
          "model_module": "@jupyter-widgets/controls",
          "model_module_version": "1.5.0",
          "model_name": "DescriptionStyleModel",
          "state": {
            "_model_module": "@jupyter-widgets/controls",
            "_model_module_version": "1.5.0",
            "_model_name": "DescriptionStyleModel",
            "_view_count": null,
            "_view_module": "@jupyter-widgets/base",
            "_view_module_version": "1.2.0",
            "_view_name": "StyleView",
            "description_width": ""
          }
        },
        "f5a59b7d1fc948f883cb4f0f11d10ea4": {
          "model_module": "@jupyter-widgets/controls",
          "model_module_version": "1.5.0",
          "model_name": "HTMLModel",
          "state": {
            "_dom_classes": [],
            "_model_module": "@jupyter-widgets/controls",
            "_model_module_version": "1.5.0",
            "_model_name": "HTMLModel",
            "_view_count": null,
            "_view_module": "@jupyter-widgets/controls",
            "_view_module_version": "1.5.0",
            "_view_name": "HTMLView",
            "description": "",
            "description_tooltip": null,
            "layout": "IPY_MODEL_c721229a30384521a3165e93f9984561",
            "placeholder": "​",
            "style": "IPY_MODEL_2a97d929bce542c8ba0f5de0b0bf042f",
            "value": "100%"
          }
        },
        "f67156c3cb3241ddb3b68b1a047e9f54": {
          "model_module": "@jupyter-widgets/base",
          "model_module_version": "1.2.0",
          "model_name": "LayoutModel",
          "state": {
            "_model_module": "@jupyter-widgets/base",
            "_model_module_version": "1.2.0",
            "_model_name": "LayoutModel",
            "_view_count": null,
            "_view_module": "@jupyter-widgets/base",
            "_view_module_version": "1.2.0",
            "_view_name": "LayoutView",
            "align_content": null,
            "align_items": null,
            "align_self": null,
            "border": null,
            "bottom": null,
            "display": null,
            "flex": null,
            "flex_flow": null,
            "grid_area": null,
            "grid_auto_columns": null,
            "grid_auto_flow": null,
            "grid_auto_rows": null,
            "grid_column": null,
            "grid_gap": null,
            "grid_row": null,
            "grid_template_areas": null,
            "grid_template_columns": null,
            "grid_template_rows": null,
            "height": null,
            "justify_content": null,
            "justify_items": null,
            "left": null,
            "margin": null,
            "max_height": null,
            "max_width": null,
            "min_height": null,
            "min_width": null,
            "object_fit": null,
            "object_position": null,
            "order": null,
            "overflow": null,
            "overflow_x": null,
            "overflow_y": null,
            "padding": null,
            "right": null,
            "top": null,
            "visibility": null,
            "width": null
          }
        },
        "f7f741f2282f4b599180c8f6dc463331": {
          "model_module": "@jupyter-widgets/base",
          "model_module_version": "1.2.0",
          "model_name": "LayoutModel",
          "state": {
            "_model_module": "@jupyter-widgets/base",
            "_model_module_version": "1.2.0",
            "_model_name": "LayoutModel",
            "_view_count": null,
            "_view_module": "@jupyter-widgets/base",
            "_view_module_version": "1.2.0",
            "_view_name": "LayoutView",
            "align_content": null,
            "align_items": null,
            "align_self": null,
            "border": null,
            "bottom": null,
            "display": null,
            "flex": null,
            "flex_flow": null,
            "grid_area": null,
            "grid_auto_columns": null,
            "grid_auto_flow": null,
            "grid_auto_rows": null,
            "grid_column": null,
            "grid_gap": null,
            "grid_row": null,
            "grid_template_areas": null,
            "grid_template_columns": null,
            "grid_template_rows": null,
            "height": null,
            "justify_content": null,
            "justify_items": null,
            "left": null,
            "margin": null,
            "max_height": null,
            "max_width": null,
            "min_height": null,
            "min_width": null,
            "object_fit": null,
            "object_position": null,
            "order": null,
            "overflow": null,
            "overflow_x": null,
            "overflow_y": null,
            "padding": null,
            "right": null,
            "top": null,
            "visibility": null,
            "width": null
          }
        },
        "f8f21121f10146edae656998227fe397": {
          "model_module": "@jupyter-widgets/base",
          "model_module_version": "1.2.0",
          "model_name": "LayoutModel",
          "state": {
            "_model_module": "@jupyter-widgets/base",
            "_model_module_version": "1.2.0",
            "_model_name": "LayoutModel",
            "_view_count": null,
            "_view_module": "@jupyter-widgets/base",
            "_view_module_version": "1.2.0",
            "_view_name": "LayoutView",
            "align_content": null,
            "align_items": null,
            "align_self": null,
            "border": null,
            "bottom": null,
            "display": null,
            "flex": null,
            "flex_flow": null,
            "grid_area": null,
            "grid_auto_columns": null,
            "grid_auto_flow": null,
            "grid_auto_rows": null,
            "grid_column": null,
            "grid_gap": null,
            "grid_row": null,
            "grid_template_areas": null,
            "grid_template_columns": null,
            "grid_template_rows": null,
            "height": null,
            "justify_content": null,
            "justify_items": null,
            "left": null,
            "margin": null,
            "max_height": null,
            "max_width": null,
            "min_height": null,
            "min_width": null,
            "object_fit": null,
            "object_position": null,
            "order": null,
            "overflow": null,
            "overflow_x": null,
            "overflow_y": null,
            "padding": null,
            "right": null,
            "top": null,
            "visibility": null,
            "width": null
          }
        },
        "f9580b67f644402b83bdfebd23b39ed4": {
          "model_module": "@jupyter-widgets/controls",
          "model_module_version": "1.5.0",
          "model_name": "DescriptionStyleModel",
          "state": {
            "_model_module": "@jupyter-widgets/controls",
            "_model_module_version": "1.5.0",
            "_model_name": "DescriptionStyleModel",
            "_view_count": null,
            "_view_module": "@jupyter-widgets/base",
            "_view_module_version": "1.2.0",
            "_view_name": "StyleView",
            "description_width": ""
          }
        },
        "fa28dde4270648f4a71d5365c598b7f3": {
          "model_module": "@jupyter-widgets/base",
          "model_module_version": "1.2.0",
          "model_name": "LayoutModel",
          "state": {
            "_model_module": "@jupyter-widgets/base",
            "_model_module_version": "1.2.0",
            "_model_name": "LayoutModel",
            "_view_count": null,
            "_view_module": "@jupyter-widgets/base",
            "_view_module_version": "1.2.0",
            "_view_name": "LayoutView",
            "align_content": null,
            "align_items": null,
            "align_self": null,
            "border": null,
            "bottom": null,
            "display": null,
            "flex": null,
            "flex_flow": null,
            "grid_area": null,
            "grid_auto_columns": null,
            "grid_auto_flow": null,
            "grid_auto_rows": null,
            "grid_column": null,
            "grid_gap": null,
            "grid_row": null,
            "grid_template_areas": null,
            "grid_template_columns": null,
            "grid_template_rows": null,
            "height": null,
            "justify_content": null,
            "justify_items": null,
            "left": null,
            "margin": null,
            "max_height": null,
            "max_width": null,
            "min_height": null,
            "min_width": null,
            "object_fit": null,
            "object_position": null,
            "order": null,
            "overflow": null,
            "overflow_x": null,
            "overflow_y": null,
            "padding": null,
            "right": null,
            "top": null,
            "visibility": null,
            "width": null
          }
        },
        "fe5d4c6461a1412cb65a41e43e09f93b": {
          "model_module": "@jupyter-widgets/controls",
          "model_module_version": "1.5.0",
          "model_name": "HTMLModel",
          "state": {
            "_dom_classes": [],
            "_model_module": "@jupyter-widgets/controls",
            "_model_module_version": "1.5.0",
            "_model_name": "HTMLModel",
            "_view_count": null,
            "_view_module": "@jupyter-widgets/controls",
            "_view_module_version": "1.5.0",
            "_view_name": "HTMLView",
            "description": "",
            "description_tooltip": null,
            "layout": "IPY_MODEL_098a4a6bd662452892d4f2d17ccc1933",
            "placeholder": "​",
            "style": "IPY_MODEL_d87ef873358a4cbaac5aaa1c640b4ee9",
            "value": " 100/100 [00:05&lt;00:00, 20.10it/s]"
          }
        }
      }
    }
  },
  "nbformat": 4,
  "nbformat_minor": 0
}
